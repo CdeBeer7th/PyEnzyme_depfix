{
 "cells": [
  {
   "cell_type": "markdown",
   "metadata": {},
   "source": [
    "# Reading EnzymeML"
   ]
  },
  {
   "cell_type": "markdown",
   "metadata": {},
   "source": [
    "PyEnzyme is a library written for reading, writing and editing EnzymeML files. On top of that, PyEnzyme provides an interface for custom validation, database upload and several modelling frameworks, such as COPASI and PySCeS."
   ]
  },
  {
   "cell_type": "markdown",
   "metadata": {},
   "source": [
    "Example"
   ]
  }
 ],
 "metadata": {
  "interpreter": {
   "hash": "f2e1b9e560e636e8a29046a9c0adcc10f94352572a35c118016d9860034e1934"
  },
  "kernelspec": {
   "display_name": "Python 3.9.7 64-bit ('enzymeml': conda)",
   "language": "python",
   "name": "python3"
  },
  "language_info": {
   "codemirror_mode": {
    "name": "ipython",
    "version": 3
   },
   "file_extension": ".py",
   "mimetype": "text/x-python",
   "name": "python",
   "nbconvert_exporter": "python",
   "pygments_lexer": "ipython3",
   "version": "3.9.7"
  }
 },
 "nbformat": 4,
 "nbformat_minor": 2
}
