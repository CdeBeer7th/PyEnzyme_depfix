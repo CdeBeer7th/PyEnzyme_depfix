{
 "cells": [
  {
   "cell_type": "markdown",
   "metadata": {},
   "source": [
    "# Overview"
   ]
  },
  {
   "cell_type": "markdown",
   "metadata": {},
   "source": [
    "PyEnzyme is a library written for reading, writing and editing EnzymeML files. On top of that, PyEnzyme provides an interface for custom validation, database upload and several modelling frameworks, such as COPASI and PySCeS."
   ]
  },
  {
   "cell_type": "markdown",
   "metadata": {},
   "source": [
    "-----------------------------"
   ]
  },
  {
   "cell_type": "markdown",
   "metadata": {},
   "source": [
    "## Example"
   ]
  },
  {
   "cell_type": "markdown",
   "metadata": {},
   "source": [
    "PyEnzyme offers a convient way to create an EnzymeML object model based on the main object ```EnzymeMLDocument``` to which all successive elements such as ```Protein``` objects or ```Reactant``` objects are added. The following example demonstrates the workflow of creating a minimal EnzymeML document containing a vessel, protein and reactant. The example also demonstrates how to create an object from a database entry such as UniProt."
   ]
  },
  {
   "cell_type": "code",
   "execution_count": 9,
   "metadata": {},
   "outputs": [
    {
     "name": "stdout",
     "output_type": "stream",
     "text": [
      ">>> Units\n",
      "\tID: u0 \t Name: ml\n",
      "\tID: u1 \t Name: mmole / l\n",
      ">>> Reactants\n",
      "\tID: s0 \t Name: Ethanol\n",
      ">>> Proteins\n",
      "\tID: p0 \t Name: Alcohol dehydrogenase subunit alpha\n",
      ">>> Reactions\n",
      ">>> Measurements\n",
      "\n",
      "ID   Species   Conc   Unit\n",
      "==========================\n",
      "                          \n",
      "\n"
     ]
    }
   ],
   "source": [
    "from pyenzyme import EnzymeMLDocument, Vessel, Protein, Reactant\n",
    "\n",
    "# Initialize the EnzymeMLDocument clas\n",
    "enzmldoc = EnzymeMLDocument(name=\"First example\")\n",
    "\n",
    "# Create a vessel object\n",
    "vessel = Vessel(name=\"Falcon Tube\", volume=10.0, unit=\"ml\")\n",
    "vessel_id = enzmldoc.addVessel(vessel)\n",
    "\n",
    "# Create a protein object from the UniProt database (Alcohol Dehydrogenase)\n",
    "adh = Protein(uniprotid=\"P07327\", vessel_id=vessel_id, init_conc=10.0, unit=\"mmole / l\")\n",
    "adh_id = enzmldoc.addProtein(adh)\n",
    "\n",
    "# Create a custom reactant object\n",
    "ethanol = Reactant(name=\"Ethanol\", vessel_id=vessel_id, init_conc=20.0, unit=\"mmole / l\")\n",
    "ethanol_id = enzmldoc.addReactant(ethanol)\n",
    "\n",
    "print(enzmldoc)"
   ]
  },
  {
   "cell_type": "markdown",
   "metadata": {},
   "source": [
    "*(This script is complete, it should run \"as is\")*"
   ]
  },
  {
   "cell_type": "markdown",
   "metadata": {},
   "source": [
    "-------------------"
   ]
  },
  {
   "cell_type": "markdown",
   "metadata": {},
   "source": [
    "## Workflow"
   ]
  },
  {
   "cell_type": "markdown",
   "metadata": {},
   "source": [
    "In general, PyEnzyme's workflow is based on creating objects independent of the ```EnzymeMLDocument``` instance. Up until the object is added to the ```EnzymeMLDocument``` via an ```addXYZ```-method internal identifiers wont be given and unit strings are not parsed to the SBML compatible format. This allows to reuse individual objects for different EnzymeML documents, because context matters.\n",
    "\n",
    "The following example demonstrates how such objects can be used in different EnzymeML document contexts."
   ]
  },
  {
   "cell_type": "code",
   "execution_count": null,
   "metadata": {},
   "outputs": [],
   "source": [
    "from pyenzyme import EnzymeMLDocument, Vessel, Protein, Reactant\n",
    "\n",
    "# Initialize the EnzymeMLDocument clas\n",
    "enzmldoc_1 = EnzymeMLDocument(name=\"Experiment 1\")\n",
    "enzmldoc_2 = EnzymeMLDocument(name=\"Experiment 2\")\n",
    "\n",
    "\n",
    "# Create a vessel object\n",
    "vessel = Vessel(name=\"Falcon Tube\", volume=10.0, unit=\"ml\")\n",
    "\n",
    "# Add it to both documents and retrieve the individual IDs\n",
    "vessel_id_1 = enzmldoc_1.addVessel(vessel)\n",
    "vessel_id_2 = enzmldoc_2.addVessel(vessel)\n",
    "\n",
    "# Create a protein object from the UniProt database used by both documents\n",
    "adh = Protein(uniprotid=\"P07327\", vessel_id=vessel_id, init_conc=10.0, unit=\"mmole / l\")\n",
    "\n",
    "enzmldoc_1.addProtein(adh)\n",
    "enzmldoc_1.addProtein(adh)\n",
    "\n",
    "# Create a custom reactant object for the first experiment\n",
    "ethanol = Reactant(name=\"Ethanol\", vessel_id=vessel_id, init_conc=20.0, unit=\"mmole / l\")\n",
    "enzmldoc_1.addReactant(ethanol)\n",
    "\n",
    "# Create a reatant object from the ChEBI database for the second experiment\n",
    "butanol = Reactant(chebi_id=\"28885\", vessel_id=vessel_id, init_conc=20.0, unit=\"mmole / l\")\n",
    "enzmldoc_2.addReactant(butanol)"
   ]
  },
  {
   "cell_type": "markdown",
   "metadata": {},
   "source": [
    "*(This script is complete, it should run \"as is\")*"
   ]
  }
 ],
 "metadata": {
  "interpreter": {
   "hash": "f2e1b9e560e636e8a29046a9c0adcc10f94352572a35c118016d9860034e1934"
  },
  "kernelspec": {
   "display_name": "Python 3.9.7 64-bit ('enzymeml': conda)",
   "language": "python",
   "name": "python3"
  },
  "language_info": {
   "codemirror_mode": {
    "name": "ipython",
    "version": 3
   },
   "file_extension": ".py",
   "mimetype": "text/x-python",
   "name": "python",
   "nbconvert_exporter": "python",
   "pygments_lexer": "ipython3",
   "version": "3.9.7"
  },
  "orig_nbformat": 4
 },
 "nbformat": 4,
 "nbformat_minor": 2
}
