{
 "cells": [
  {
   "cell_type": "markdown",
   "id": "da2d0343-e5ae-4beb-8386-be55db5e3409",
   "metadata": {},
   "source": [
    "$$\\require{mhchem}$$"
   ]
  },
  {
   "cell_type": "markdown",
   "id": "515b1663-1f09-4085-ade9-bacd0fcbcb74",
   "metadata": {},
   "source": [
    "## Initializing an EnzymeML document\n",
    "\n",
    "In order to write an EnzymeML document it needs to be initialized by calling the ```EnzymeMLDocument``` object. At this point it is possible to add metadata such as a name, URL, DOI or PubmedID to the document. In addition, it is necessary but not mandatory to add author information. Please note, that for a Dataverse upload adding an author is mandatory though.\n",
    "\n",
    "\n",
    "- ```EnzymeMLDocument``` is the container object that stores all experiment information based on sub classes.\n",
    "- ```Creator``` carries the metadata about an author.\n",
    "- ```addCreator``` adds a ```Creator``` object to the ```EnzymeMLdocument```"
   ]
  },
  {
   "cell_type": "code",
   "execution_count": 21,
   "id": "4957907c-c9c7-4258-a3c7-f1fd8af99307",
   "metadata": {},
   "outputs": [],
   "source": [
    "import pyenzymedepfix as pe"
   ]
  },
  {
   "cell_type": "code",
   "execution_count": 22,
   "id": "b8876130-0057-466e-878f-5de0c7e7f871",
   "metadata": {},
   "outputs": [],
   "source": [
    "# Initialize the EnzymeML document\n",
    "enzmldoc = pe.EnzymeMLDocument(name=\"Experiment\")\n",
    "\n",
    "\n",
    "# Add authors to the document\n",
    "author = pe.Creator(given_name=\"Max\", family_name=\"Mustermann\", mail=\"max@mustermann.de\")\n",
    "author_id = enzmldoc.addCreator(author)"
   ]
  },
  {
   "cell_type": "markdown",
   "id": "57d0e052-8f07-4b40-b73f-cd4e2e3e64c1",
   "metadata": {},
   "source": [
    "-------"
   ]
  },
  {
   "cell_type": "markdown",
   "id": "822cd223-92dd-4194-90b8-7c32a80755df",
   "metadata": {},
   "source": [
    "## Documentation of a simple single substrate reaction\n",
    "\n",
    "PyEnzyme is capable to document complete experiments from planning to execution, modelling and ultimately database upload. For this, consider a simple single substrate enzyme-catalyzed reaction, given in the following:\n",
    "\n",
    "<br>\n",
    "\n",
    "$$\n",
    "\\ce{Substrate + Enzyme \\rightleftharpoons [ES] \\rightleftharpoons [EP] \\rightleftharpoons Product + Enzyme}\n",
    "$$\n",
    "\n",
    "<br>\n",
    "\n",
    "In order to properly document each step, it is necessary to start with the definition of all entities. This is done by initializing the appropriate objects and their metadata. Since pyEnzyme is capable to report micro-kinetic models, it is possible to define intermediates that may not be directly observable, such as Enzyme-Substrate complexes. This facilitates mathematical modeling based on differential equations and time-course data and offers a flexible way that is independent of existing models.\n",
    "\n",
    "**The next steps involve definition of the following entities:**\n",
    "\n",
    "| Type     | Name                     |\n",
    "|----------|--------------------------|\n",
    "| Vessel   | Eppendorf Tube           |\n",
    "| Protein  | Enzyme                   |\n",
    "| Reactant | Substrate                |\n",
    "| Reactant | Product                  |\n",
    "| Complex  | ES |\n",
    "| Complex  | EP   |\n",
    "\n",
    "\n",
    "Tips and hints:\n",
    "\n",
    "- Use the addXYZ-functions to append information to an EnzymeML document\n",
    "- Add-Methods return the identifier, which can later be used to build reactions and models. Thus it is best when these are stored in a variable or data structure\n",
    "- PyEnzyme takes care of type checking and validation. Furthermore, technicalities such as unit-decomposition (used to convert unit scales properly) and identifier assignment are done within the backend. Hence, focus on what matters."
   ]
  },
  {
   "cell_type": "markdown",
   "id": "b1293c5f-00f6-482a-85b8-fc3f1977060c",
   "metadata": {},
   "source": [
    "### Vessels\n",
    "\n",
    "- ```Vessel``` carries the metadata for vessels that are used.\n",
    "- ```addVessel``` adds a ```Vessel``` object to the document and returns the ID."
   ]
  },
  {
   "cell_type": "code",
   "execution_count": 23,
   "id": "3ba4e647-86c6-418f-ac76-03c87d7b7881",
   "metadata": {},
   "outputs": [],
   "source": [
    "vessel = pe.Vessel(name=\"Eppendorf Tube\", volume=10.0, unit=\"ml\")\n",
    "vessel_id = enzmldoc.addVessel(vessel)"
   ]
  },
  {
   "cell_type": "markdown",
   "id": "3288f19a-56ca-4d33-bf71-ebf91fa9a49f",
   "metadata": {},
   "source": [
    "### Proteins\n",
    "\n",
    "- ```Protein``` carries the metadata for proteins that are part of the experiment.\n",
    "- ```addProtein``` adds a ```Protein``` object to the document and returns the ID."
   ]
  },
  {
   "cell_type": "code",
   "execution_count": 24,
   "id": "bf7f9b8a-c150-4ea6-873c-19b355f84cfa",
   "metadata": {},
   "outputs": [],
   "source": [
    "enzyme = pe.Protein(name=\"Enzyme\", vessel_id=vessel_id, sequence=\"MAVKLT\", constant=False)\n",
    "enzyme_id = enzmldoc.addProtein(enzyme)"
   ]
  },
  {
   "cell_type": "markdown",
   "id": "e6dc7af3-f9b5-4a26-8cee-d6da1da662c9",
   "metadata": {},
   "source": [
    "### Reactants\n",
    "\n",
    "- ```Reactant``` carries the metadata for reactants that are part of the experiment.\n",
    "- ```addReactant``` adds a ```Reactant``` object to the document and returns the ID."
   ]
  },
  {
   "cell_type": "code",
   "execution_count": 25,
   "id": "9dad2554-ae10-4d8d-ac26-e493a711effa",
   "metadata": {},
   "outputs": [],
   "source": [
    "substrate = pe.Reactant(name=\"Substrate\", vessel_id=vessel_id)\n",
    "substrate_id = enzmldoc.addReactant(substrate)"
   ]
  },
  {
   "cell_type": "code",
   "execution_count": 26,
   "id": "0eb707b4-f5ff-4c84-8e2d-0395f06f721d",
   "metadata": {},
   "outputs": [],
   "source": [
    "product = pe.Reactant(name=\"Product\", vessel_id=vessel_id)\n",
    "product_id = enzmldoc.addReactant(product)"
   ]
  },
  {
   "cell_type": "markdown",
   "id": "2548347a-2ea9-483e-b4b0-93872a368f08",
   "metadata": {},
   "source": [
    "### Complexes\n",
    "\n",
    "- ```Complex``` carries the metadata for complexes that are part of the experiment.\n",
    "- ```addComplex``` adds a ```Complex``` object to the document and returns the ID."
   ]
  },
  {
   "cell_type": "code",
   "execution_count": 27,
   "id": "9f3f4320-eb9b-4525-80b7-1137191ffda4",
   "metadata": {},
   "outputs": [],
   "source": [
    "es_complex_id = enzmldoc.addComplex(\n",
    "    name=\"ES\",\n",
    "    vessel_id=vessel_id,\n",
    "    participants=[enzyme_id, substrate_id]\n",
    ")"
   ]
  },
  {
   "cell_type": "code",
   "execution_count": 28,
   "id": "747b66d3-1f49-4b5a-b28b-8346a67f3b8a",
   "metadata": {},
   "outputs": [],
   "source": [
    "ep_complex_id = enzmldoc.addComplex(\n",
    "    name=\"EP\",\n",
    "    vessel_id=vessel_id, \n",
    "    participants=[enzyme_id, product_id]\n",
    ")"
   ]
  },
  {
   "cell_type": "markdown",
   "id": "fda559b4-0db1-4ca5-b689-f326086c2c3d",
   "metadata": {},
   "source": [
    "--------"
   ]
  },
  {
   "cell_type": "markdown",
   "id": "92533a99-869a-41a8-927e-edbb3187e037",
   "metadata": {},
   "source": [
    "## Building the reaction network\n",
    "\n",
    "In order for the micro-kinetic model to be accessible to various modeling platforms and EnzymeML, each reaction in the model has to be documented. Similar to the previous step, this involves the creation of ```EnzymeReaction``` objects which will be added to the EnzymeML document. Hence, the following part-reactions need to be defined:\n",
    "\n",
    "1. $\\ce{Substrate + Enzyme \\rightleftharpoons [ES] }$\n",
    "\n",
    "2. $\\ce{[ES] \\rightleftharpoons [EP]}$\n",
    "\n",
    "3. $\\ce{[EP] \\rightleftharpoons Product + Enzyme}$\n",
    "\n",
    "**Tips and hints:**\n",
    "\n",
    "- Add-methods require the ```EnzymeMLDocument``` object to be added. This is necessary to check, whether given identifiers already exist to mitigate later errors.\n",
    "- Similar to the other add-methods, ```addReaction```returns the given identifier. Thus it is best to store these in variables or data structures too.\n",
    "- At this point, kinetic laws can be added to the reaction, but in this example we'll add them afterwards."
   ]
  },
  {
   "cell_type": "markdown",
   "id": "2beb8fd7-0c8c-4c16-9130-65dcc00ad1fc",
   "metadata": {},
   "source": [
    "### Creating reactions from equations\n",
    "\n",
    "PyEnzyme offers two ways of creating `EnzymeReaction` objects:\n",
    "\n",
    "- By using an equation that either includes the ID or name of a Reactant/Protein/Complex\n",
    "- By using `add`-methods to build up all elements\n",
    "\n",
    "Both methods will result in the same `EnzymeReaction` object, but both might shine individually in different contexts. For instance, when working on a single experiment using a Jupyter Notebook, initialization by equation improves readability and reduces boilerplate code. On the other hand, if your application is meant to maintain a variety of reaction i.e. using PyEnzyme as a backend for an Electronic Lab Notebook, using the `add`-methods should prove to be more flexible and safe than manipulating string."
   ]
  },
  {
   "cell_type": "code",
   "execution_count": 29,
   "id": "6dd1d5aa-8e6c-4eb7-97d6-26f6b11dfb36",
   "metadata": {},
   "outputs": [],
   "source": [
    "# Setting up by equation\n",
    "reaction_1 = pe.EnzymeReaction.fromEquation(\"Substrate + Enzyme = ES\", \"reaction-1\", enzmldoc)\n",
    "reaction_2 = pe.EnzymeReaction.fromEquation(\"ES = EP\", \"reaction-2\", enzmldoc)\n",
    "reaction_3 = pe.EnzymeReaction.fromEquation(\"EP = Product\", \"reaction-3\", enzmldoc)"
   ]
  },
  {
   "cell_type": "code",
   "execution_count": 30,
   "id": "9d1ec57d-9047-461e-bd4d-71760fdac466",
   "metadata": {},
   "outputs": [],
   "source": [
    "# Setting up via add-methods (only for reaction 1 for demo)\n",
    "reaction_1 = pe.EnzymeReaction(name=\"reaction-1\", reversible=True)\n",
    "\n",
    "# Add each element\n",
    "reaction_1.addEduct(species_id=substrate_id, stoichiometry=1.0, enzmldoc=enzmldoc)\n",
    "reaction_1.addEduct(species_id=enzyme_id, stoichiometry=1.0, enzmldoc=enzmldoc)\n",
    "reaction_1.addProduct(species_id=product_id, stoichiometry=1.0, enzmldoc=enzmldoc)"
   ]
  },
  {
   "cell_type": "markdown",
   "id": "2656402d-9f60-419d-8a97-9548e097770c",
   "metadata": {},
   "source": [
    "### Adding the reaction to the document\n",
    "\n",
    "- ```addReaction``` adds an ```EnzymeReaction``` object to the document and returns the ID. (not used here)\n",
    "- ```addReactions``` adds multiples of ```EnzymeReaction``` objects to the document and returns an ID mapping. (used here)"
   ]
  },
  {
   "cell_type": "code",
   "execution_count": 31,
   "id": "bca45e1e-7fcd-48e1-9c5e-504aa248ef10",
   "metadata": {},
   "outputs": [],
   "source": [
    "# Finally, add al reactions to the document\n",
    "reaction_ids = enzmldoc.addReactions([reaction_1, reaction_2, reaction_3])\n"
   ]
  },
  {
   "cell_type": "markdown",
   "id": "282cc8b0-7e45-47c4-aa9c-3b7a07f6c03a",
   "metadata": {},
   "source": [
    "--------"
   ]
  },
  {
   "cell_type": "markdown",
   "id": "88cad3cc-6bef-47d8-8d44-0f53d8a4f22e",
   "metadata": {},
   "source": [
    "## Documenting measurement setups\n",
    "\n",
    "Now that the theoretical foundation of the experiment has been layed out, it is time to specify the setup of teh measurement. PyEnzyme offers a lab-like system to document such setups. Typically, experiments involve multiple runs with varying initial concentrations of every element that occurs in the reaction network or/and varying conditions such as temperature and pH. Hence, PyEnzyme builts on top of a **measurement** system, where each of these represent a 'run'.\n",
    "\n",
    "In this example, the following setups will be tracked including changing inital concentrations and temperatures:\n",
    "\n",
    "| Measurement Name | Species   | Initial concentration | Unit      | Temperature | pH  |\n",
    "|------------------|-----------|-----------------------|-----------|-------------|-----|\n",
    "| Run 1            | Substrate | 10.0                  | mmole / l | 37.0 °C     | 7.4 |\n",
    "| Run 1            | Enzyme    | 20.0                  | fmole / l | 37.0 °C     | 7.4 |\n",
    "| Run 1            | Product   | 0.0                   | mmole / l | 37.0 °C     | 7.4 |\n",
    "| Run 2            | Substrate | 100.0                 | mmole / l | 39.0 °C     | 7.4 |\n",
    "| Run 2            | Enzyme    | 40.0                  | fmole / l | 39.0 °C     | 7.4 |\n",
    "| Run 2            | Product   | 0.0                   | mmole / l | 39.0 °C     | 7.4 |\n"
   ]
  },
  {
   "cell_type": "markdown",
   "id": "21624256-889c-4a3a-ba57-d2d5df19fb12",
   "metadata": {},
   "source": [
    "### Measurement 1: 'Run 1'\n",
    "\n",
    "- ```Measurement``` carries the metadata for measurements that are conducted in the experiment.\n",
    "- ```addData``` appends measurement data to the ```Measurement``` object and checks consistency."
   ]
  },
  {
   "cell_type": "code",
   "execution_count": 32,
   "id": "7fd82ddb-a48e-49fa-8db8-11a006dcacc0",
   "metadata": {},
   "outputs": [],
   "source": [
    "measurement_1 = pe.Measurement(\n",
    "    name=\"Run 1\", temperature=37.0, temperature_unit=\"C\",\n",
    "    ph=7.4, global_time_unit=\"mins\"\n",
    ")\n",
    "\n",
    "# Add each entity that will be measured\n",
    "measurement_1.addData(reactant_id=substrate_id, init_conc=10.0, unit=\"mmole / l\")\n",
    "measurement_1.addData(reactant_id=product_id, unit=\"mmole / l\")\n",
    "measurement_1.addData(protein_id=enzyme_id, init_conc=20.0, unit=\"fmole / l\")\n",
    "\n",
    "# Add it to the EnzymeML document\n",
    "meas_1_id = enzmldoc.addMeasurement(measurement_1)"
   ]
  },
  {
   "cell_type": "markdown",
   "id": "e7707c8a-5d04-4e53-92cf-d8c45e29c935",
   "metadata": {},
   "source": [
    "### Measurement 2: 'Run 2'\n",
    "\n",
    "- ```Measurement``` carries the metadata for measurements that are conducted in the experiment.\n",
    "- ```addData``` appends measurement data to the ```Measurement``` object and checks consistency."
   ]
  },
  {
   "cell_type": "code",
   "execution_count": 33,
   "id": "9703ba7b-6199-4cb7-87f9-178700bb9131",
   "metadata": {},
   "outputs": [],
   "source": [
    "measurement_2 = pe.Measurement(\n",
    "    name=\"Run 2\", temperature=39.0, temperature_unit=\"C\",\n",
    "    ph=7.4, global_time_unit=\"mins\"\n",
    ")\n",
    "\n",
    "# Add each entity that will be measured\n",
    "measurement_2.addData(reactant_id=substrate_id, init_conc=100.0, unit=\"mmole / l\")\n",
    "measurement_2.addData(reactant_id=product_id, unit=\"mmole / l\")\n",
    "measurement_2.addData(protein_id=enzyme_id, init_conc=40.0, unit=\"fmole / l\")\n",
    "\n",
    "# Add it to the EnzymeML document\n",
    "meas_2_id = enzmldoc.addMeasurement(measurement_2)"
   ]
  },
  {
   "cell_type": "code",
   "execution_count": 34,
   "id": "c181f7ea-063c-48ee-9342-dc5e5e3a877f",
   "metadata": {},
   "outputs": [
    {
     "name": "stdout",
     "output_type": "stream",
     "text": [
      ">>> Measurement m0: Run 1\n",
      "    s0 | initial conc: 10.0 mmole / l \t| #replicates: 0\n",
      "    s1 | initial conc: 0.0 mmole / l \t| #replicates: 0\n",
      "    p0 | initial conc: 20.0 fmole / l \t| #replicates: 0\n",
      ">>> Measurement m1: Run 2\n",
      "    s0 | initial conc: 100.0 mmole / l \t| #replicates: 0\n",
      "    s1 | initial conc: 0.0 mmole / l \t| #replicates: 0\n",
      "    p0 | initial conc: 40.0 fmole / l \t| #replicates: 0\n",
      "None\n"
     ]
    },
    {
     "data": {
      "text/plain": [
       "dict_items([('u0', UnitDef(name='ml', meta_id=None, id='u0', units=[BaseUnit(kind='litre', exponent=1.0, scale=-3, multiplier=1.0)], ontology=None)), ('u1', UnitDef(name='K', meta_id=None, id='u1', units=[BaseUnit(kind='kelvin', exponent=1.0, scale=1, multiplier=1.0)], ontology=None)), ('u2', UnitDef(name='fmole / l', meta_id=None, id='u2', units=[BaseUnit(kind='litre', exponent=-1.0, scale=1, multiplier=1.0), BaseUnit(kind='mole', exponent=1.0, scale=-15, multiplier=1.0)], ontology=None)), ('u3', UnitDef(name='mmole / l', meta_id=None, id='u3', units=[BaseUnit(kind='litre', exponent=-1.0, scale=1, multiplier=1.0), BaseUnit(kind='mole', exponent=1.0, scale=-3, multiplier=1.0)], ontology=None))])"
      ]
     },
     "execution_count": 34,
     "metadata": {},
     "output_type": "execute_result"
    }
   ],
   "source": [
    "# Check the measurement table\n",
    "print(enzmldoc.printMeasurements())\n",
    "\n",
    "enzmldoc._unit_dict.items()"
   ]
  },
  {
   "cell_type": "markdown",
   "id": "a1a275a1-d098-4d47-8168-b34ab3aee384",
   "metadata": {},
   "source": [
    "--------"
   ]
  },
  {
   "cell_type": "markdown",
   "id": "0f0f54d9-17a8-41cf-ba68-41d761d9d9f0",
   "metadata": {},
   "source": [
    "## Adding experimental raw data\n",
    "\n",
    "After the setup has been defined in terms of measurements, the actual time-course data can be generated and added to the documemnt. PyEnzyme offers a ```Replicate``` class as a container for raw data that aside from raw data carries metadata describing the replicate itself.\n",
    "\n",
    "In the following example, replication data will be hard-coded and added to our measurement of choice. For this our digital lab measured the product formation as well as substrate depletion for each measurement setup."
   ]
  },
  {
   "cell_type": "markdown",
   "id": "bfe87c90-2c79-4daf-a99c-f302d37f2adc",
   "metadata": {},
   "source": [
    "### Data for 'Run 1'\n",
    "\n",
    "- ```Replicate``` carries the tim-courses and metadata for each measured entity.\n",
    "- ```addReplicates``` adds ```Replicate``` objects to a measurement to the corresponding ```MeasurementData``` container where the concentrations are also stored."
   ]
  },
  {
   "cell_type": "code",
   "execution_count": 35,
   "id": "4e465270-f8d1-49d1-92a7-349352c78a92",
   "metadata": {},
   "outputs": [],
   "source": [
    "repl_substrate_1 = pe.Replicate(\n",
    "    id=\"repl_substrate_1\",\n",
    "    species_id=substrate_id,\n",
    "    data_unit=\"mmole / l\",\n",
    "    time_unit=\"min\",\n",
    "    time=[1,2,3,4,5,6],\n",
    "    data=[5,4,3,2,1,0]\n",
    ")\n",
    "\n",
    "repl_product_1 = pe.Replicate(\n",
    "    id=\"repl_product_1\",\n",
    "    species_id=product_id,\n",
    "    data_unit=\"mmole / l\",\n",
    "    time_unit=\"min\",\n",
    "    time=[1,2,3,4,5,6],\n",
    "    data=[0,1,2,3,4,5]\n",
    ")"
   ]
  },
  {
   "cell_type": "code",
   "execution_count": 36,
   "id": "783314be-2b6b-443c-bf79-5aca8ddff9af",
   "metadata": {},
   "outputs": [],
   "source": [
    "# Add it to the first measurement 'Run 1'\n",
    "measurement = enzmldoc.getMeasurement(meas_1_id)\n",
    "measurement.addReplicates([repl_product_1, repl_substrate_1], enzmldoc=enzmldoc)"
   ]
  },
  {
   "cell_type": "markdown",
   "id": "e7602d58-29a3-4a8a-93bf-40bedc1f82bb",
   "metadata": {},
   "source": [
    "### Data for 'Run 2'\n",
    "\n",
    "- ```Replicate``` carries the tim-courses and metadata for each measured entity.\n",
    "- ```addReplicates``` adds ```Replicate``` objects to a measurement to the corresponding ```MeasurementData``` container where the concentrations are also stored."
   ]
  },
  {
   "cell_type": "code",
   "execution_count": 37,
   "id": "05145bde-8a9e-425e-992f-509575c3b86f",
   "metadata": {},
   "outputs": [
    {
     "name": "stderr",
     "output_type": "stream",
     "text": [
      "/tmp/ipykernel_43967/141183587.py:19: DeprecatedWarning: getUnitDict is deprecated. Use the attribute `unit_dict` instead.\n",
      "  enzmldoc.getUnitDict()\n"
     ]
    },
    {
     "data": {
      "text/plain": [
       "{'u0': UnitDef(name='ml', meta_id=None, id='u0', units=[BaseUnit(kind='litre', exponent=1.0, scale=-3, multiplier=1.0)], ontology=None),\n",
       " 'u1': UnitDef(name='K', meta_id=None, id='u1', units=[BaseUnit(kind='kelvin', exponent=1.0, scale=1, multiplier=1.0)], ontology=None),\n",
       " 'u2': UnitDef(name='fmole / l', meta_id=None, id='u2', units=[BaseUnit(kind='litre', exponent=-1.0, scale=1, multiplier=1.0), BaseUnit(kind='mole', exponent=1.0, scale=-15, multiplier=1.0)], ontology=None),\n",
       " 'u3': UnitDef(name='mmole / l', meta_id=None, id='u3', units=[BaseUnit(kind='litre', exponent=-1.0, scale=1, multiplier=1.0), BaseUnit(kind='mole', exponent=1.0, scale=-3, multiplier=1.0)], ontology=None),\n",
       " 'u4': UnitDef(name='min', meta_id=None, id='u4', units=[BaseUnit(kind='second', exponent=1.0, scale=1, multiplier=60.0)], ontology=None)}"
      ]
     },
     "execution_count": 37,
     "metadata": {},
     "output_type": "execute_result"
    }
   ],
   "source": [
    "repl_substrate_2 = pe.Replicate(\n",
    "    id=\"repl_substrate_2\",\n",
    "    species_id=substrate_id,\n",
    "    data_unit=\"mmole / l\",\n",
    "    time_unit=\"min\",\n",
    "    time=[1,2,3,4,5,6],\n",
    "    data=[50,40,30,20,10,0]\n",
    ")\n",
    "\n",
    "repl_product_2 = pe.Replicate(\n",
    "    id=\"repl_product_2\",\n",
    "    species_id=product_id,\n",
    "    data_unit=\"mmole / l\",\n",
    "    time_unit=\"min\",\n",
    "    time=[1,2,3,4,5,6],\n",
    "    data=[0,10,20,30,40,50]\n",
    ")\n",
    "\n",
    "enzmldoc.getUnitDict()"
   ]
  },
  {
   "cell_type": "code",
   "execution_count": 38,
   "id": "d256acef-a8f5-4ee4-a483-5763494e4042",
   "metadata": {},
   "outputs": [],
   "source": [
    "# Add it to the first measurement 'Run 2'\n",
    "measurement = enzmldoc.getMeasurement(meas_2_id)\n",
    "measurement.addReplicates([repl_product_2, repl_substrate_2], enzmldoc=enzmldoc)"
   ]
  },
  {
   "cell_type": "markdown",
   "id": "e0a10524-557e-44c1-9fd3-3eba2d8b960c",
   "metadata": {},
   "source": [
    "-----"
   ]
  },
  {
   "cell_type": "markdown",
   "id": "d87eb5c2-6976-4e0d-977d-5f95836e8516",
   "metadata": {},
   "source": [
    "## Saving and distributing an EnzymeML document\n",
    "\n",
    "Finally, the experiment has been finished and meta- as well as raw-data been documented. In order to make the data exchangable, PyEnzyme offers several options for data export. First and foremost, the complete experiment can be exported to EnzymeML which is SBML compatible and thus accessible by SBML-based modeling tools (e.g. COPASI, PySCeS). Furthermore, in regard of the web, PyEnzyme offers a JSON export too.\n",
    "\n",
    "Apart from raw exports, PyEnzyme can also interface with the federated databases system Dataverse by providing a simple upload method that automatically uploads and processes the document contents to a Dataverse compatible format. Please note, the Dataverse must support the 'EnzymeML' metadatablock for a successful upload.\n"
   ]
  },
  {
   "cell_type": "markdown",
   "id": "1b5a7d92-f997-4c17-817e-64f1427f6466",
   "metadata": {},
   "source": [
    "### Export\n",
    "\n",
    "- ```toFile``` writes the EnzymeML document to an OMEX archive at the specified path.\n",
    "- ```json``` converts the EnzymeML document to a JSON string, which in turn can be used for REST interfaces or data storage.\n",
    "- ```toXMLString``` returns the XML representation that is also found in the OMEX archive."
   ]
  },
  {
   "cell_type": "code",
   "execution_count": 39,
   "id": "89997a0d",
   "metadata": {},
   "outputs": [
    {
     "name": "stdout",
     "output_type": "stream",
     "text": [
      "dict_items([('u0', UnitDef(name='ml', meta_id=None, id='u0', units=[BaseUnit(kind='litre', exponent=1.0, scale=-3, multiplier=1.0)], ontology=None)), ('u1', UnitDef(name='K', meta_id=None, id='u1', units=[BaseUnit(kind='kelvin', exponent=1.0, scale=1, multiplier=1.0)], ontology=None)), ('u2', UnitDef(name='fmole / l', meta_id=None, id='u2', units=[BaseUnit(kind='litre', exponent=-1.0, scale=1, multiplier=1.0), BaseUnit(kind='mole', exponent=1.0, scale=-15, multiplier=1.0)], ontology=None)), ('u3', UnitDef(name='mmole / l', meta_id=None, id='u3', units=[BaseUnit(kind='litre', exponent=-1.0, scale=1, multiplier=1.0), BaseUnit(kind='mole', exponent=1.0, scale=-3, multiplier=1.0)], ontology=None)), ('u4', UnitDef(name='min', meta_id=None, id='u4', units=[BaseUnit(kind='second', exponent=1.0, scale=1, multiplier=60.0)], ontology=None))])\n",
      "name='ml' meta_id=None id='u0' units=[BaseUnit(kind='litre', exponent=1.0, scale=-3, multiplier=1.0)] ontology=None\n",
      "u0\n",
      "name='K' meta_id=None id='u1' units=[BaseUnit(kind='kelvin', exponent=1.0, scale=1, multiplier=1.0)] ontology=None\n",
      "u1\n",
      "name='fmole / l' meta_id=None id='u2' units=[BaseUnit(kind='litre', exponent=-1.0, scale=1, multiplier=1.0), BaseUnit(kind='mole', exponent=1.0, scale=-15, multiplier=1.0)] ontology=None\n",
      "u2\n",
      "name='mmole / l' meta_id=None id='u3' units=[BaseUnit(kind='litre', exponent=-1.0, scale=1, multiplier=1.0), BaseUnit(kind='mole', exponent=1.0, scale=-3, multiplier=1.0)] ontology=None\n",
      "u3\n",
      "name='min' meta_id=None id='u4' units=[BaseUnit(kind='second', exponent=1.0, scale=1, multiplier=60.0)] ontology=None\n",
      "u4\n"
     ]
    }
   ],
   "source": [
    "testdic = enzmldoc._unit_dict\n",
    "print(testdic.items())\n",
    "for unit_id, unit_def in testdic.items():\n",
    "            print(unit_def)\n",
    "            print(unit_id)\n",
    "\n",
    "\n"
   ]
  },
  {
   "cell_type": "code",
   "execution_count": 40,
   "id": "3aadf496-dee7-43a1-917a-207244398943",
   "metadata": {},
   "outputs": [
    {
     "name": "stdout",
     "output_type": "stream",
     "text": [
      "test\n",
      "None\n"
     ]
    },
    {
     "ename": "ValueError",
     "evalue": "invalid null reference in method 'SBase_setMetaId', argument 2 of type 'std::string const &'",
     "output_type": "error",
     "traceback": [
      "\u001b[0;31m---------------------------------------------------------------------------\u001b[0m",
      "\u001b[0;31mValueError\u001b[0m                                Traceback (most recent call last)",
      "\u001b[0;32m/tmp/ipykernel_43967/12575552.py\u001b[0m in \u001b[0;36m?\u001b[0;34m()\u001b[0m\n\u001b[1;32m      1\u001b[0m \u001b[0;31m# To an OMEX archive\u001b[0m\u001b[0;34m\u001b[0m\u001b[0;34m\u001b[0m\u001b[0m\n\u001b[0;32m----> 2\u001b[0;31m \u001b[0menzmldoc\u001b[0m\u001b[0;34m.\u001b[0m\u001b[0mtoFile\u001b[0m\u001b[0;34m(\u001b[0m\u001b[0;34m\".\"\u001b[0m\u001b[0;34m,\u001b[0m \u001b[0mname\u001b[0m\u001b[0;34m=\u001b[0m\u001b[0;34m\"My_Experiment\"\u001b[0m\u001b[0;34m)\u001b[0m\u001b[0;34m\u001b[0m\u001b[0;34m\u001b[0m\u001b[0m\n\u001b[0m",
      "\u001b[0;32m~/.cache/pypoetry/virtualenvs/labnexus-server-NBUs6KrA-py3.11/lib/python3.11/site-packages/pyenzymedepfix/enzymeml/core/enzymemldocument.py\u001b[0m in \u001b[0;36m?\u001b[0;34m(self, path, name)\u001b[0m\n\u001b[1;32m    297\u001b[0m             \u001b[0mpath\u001b[0m \u001b[0;34m(\u001b[0m\u001b[0mPath\u001b[0m\u001b[0;34m)\u001b[0m\u001b[0;34m:\u001b[0m \u001b[0mPath\u001b[0m \u001b[0mwhere\u001b[0m \u001b[0mthe\u001b[0m \u001b[0mdocument\u001b[0m \u001b[0mshould\u001b[0m \u001b[0mbe\u001b[0m \u001b[0msaved\u001b[0m\u001b[0;34m.\u001b[0m\u001b[0;34m\u001b[0m\u001b[0;34m\u001b[0m\u001b[0m\n\u001b[1;32m    298\u001b[0m             \u001b[0mverbose\u001b[0m \u001b[0;34m(\u001b[0m\u001b[0mPositiveInt\u001b[0m\u001b[0;34m,\u001b[0m \u001b[0moptional\u001b[0m\u001b[0;34m)\u001b[0m\u001b[0;34m:\u001b[0m \u001b[0mLevel\u001b[0m \u001b[0mof\u001b[0m \u001b[0mverbosity\u001b[0m\u001b[0;34m,\u001b[0m \u001b[0;32min\u001b[0m \u001b[0morder\u001b[0m \u001b[0mto\u001b[0m \u001b[0mprint\u001b[0m \u001b[0ma\u001b[0m \u001b[0mmessage\u001b[0m \u001b[0;32mand\u001b[0m \u001b[0mthe\u001b[0m \u001b[0mresulting\u001b[0m \u001b[0mpath\u001b[0m\u001b[0;34m.\u001b[0m \u001b[0mDefaults\u001b[0m \u001b[0mto\u001b[0m \u001b[0;36m1.\u001b[0m\u001b[0;34m\u001b[0m\u001b[0;34m\u001b[0m\u001b[0m\n\u001b[1;32m    299\u001b[0m         \"\"\"\n\u001b[1;32m    300\u001b[0m \u001b[0;34m\u001b[0m\u001b[0m\n\u001b[0;32m--> 301\u001b[0;31m         \u001b[0mEnzymeMLWriter\u001b[0m\u001b[0;34m(\u001b[0m\u001b[0;34m)\u001b[0m\u001b[0;34m.\u001b[0m\u001b[0mtoFile\u001b[0m\u001b[0;34m(\u001b[0m\u001b[0mself\u001b[0m\u001b[0;34m,\u001b[0m \u001b[0mpath\u001b[0m\u001b[0;34m,\u001b[0m \u001b[0mname\u001b[0m\u001b[0;34m)\u001b[0m\u001b[0;34m\u001b[0m\u001b[0;34m\u001b[0m\u001b[0m\n\u001b[0m",
      "\u001b[0;32m~/.cache/pypoetry/virtualenvs/labnexus-server-NBUs6KrA-py3.11/lib/python3.11/site-packages/pyenzymedepfix/enzymeml/tools/enzymemlwriter.py\u001b[0m in \u001b[0;36m?\u001b[0;34m(self, enzmldoc, path, name)\u001b[0m\n\u001b[1;32m     69\u001b[0m         \u001b[0mmodel\u001b[0m\u001b[0;34m.\u001b[0m\u001b[0msetName\u001b[0m\u001b[0;34m(\u001b[0m\u001b[0menzmldoc\u001b[0m\u001b[0;34m.\u001b[0m\u001b[0mname\u001b[0m\u001b[0;34m)\u001b[0m\u001b[0;34m\u001b[0m\u001b[0;34m\u001b[0m\u001b[0m\n\u001b[1;32m     70\u001b[0m         \u001b[0mmodel\u001b[0m\u001b[0;34m.\u001b[0m\u001b[0msetId\u001b[0m\u001b[0;34m(\u001b[0m\u001b[0menzmldoc\u001b[0m\u001b[0;34m.\u001b[0m\u001b[0mname\u001b[0m\u001b[0;34m)\u001b[0m\u001b[0;34m\u001b[0m\u001b[0;34m\u001b[0m\u001b[0m\n\u001b[1;32m     71\u001b[0m \u001b[0;34m\u001b[0m\u001b[0m\n\u001b[1;32m     72\u001b[0m         \u001b[0;31m# Convert the SBML model to EnzymeML\u001b[0m\u001b[0;34m\u001b[0m\u001b[0;34m\u001b[0m\u001b[0m\n\u001b[0;32m---> 73\u001b[0;31m         \u001b[0mself\u001b[0m\u001b[0;34m.\u001b[0m\u001b[0mconvertEnzymeMLToSBML\u001b[0m\u001b[0;34m(\u001b[0m\u001b[0mmodel\u001b[0m\u001b[0;34m,\u001b[0m \u001b[0menzmldoc\u001b[0m\u001b[0;34m)\u001b[0m\u001b[0;34m\u001b[0m\u001b[0;34m\u001b[0m\u001b[0m\n\u001b[0m\u001b[1;32m     74\u001b[0m \u001b[0;34m\u001b[0m\u001b[0m\n\u001b[1;32m     75\u001b[0m         \u001b[0;31m# Add data\u001b[0m\u001b[0;34m\u001b[0m\u001b[0;34m\u001b[0m\u001b[0m\n\u001b[1;32m     76\u001b[0m         \u001b[0mpaths\u001b[0m \u001b[0;34m=\u001b[0m \u001b[0mself\u001b[0m\u001b[0;34m.\u001b[0m\u001b[0m_addData\u001b[0m\u001b[0;34m(\u001b[0m\u001b[0mmodel\u001b[0m\u001b[0;34m,\u001b[0m \u001b[0menzmldoc\u001b[0m\u001b[0;34m.\u001b[0m\u001b[0mmeasurement_dict\u001b[0m\u001b[0;34m)\u001b[0m\u001b[0;34m\u001b[0m\u001b[0;34m\u001b[0m\u001b[0m\n",
      "\u001b[0;32m~/.cache/pypoetry/virtualenvs/labnexus-server-NBUs6KrA-py3.11/lib/python3.11/site-packages/pyenzymedepfix/enzymeml/tools/enzymemlwriter.py\u001b[0m in \u001b[0;36m?\u001b[0;34m(self, model, enzmldoc)\u001b[0m\n\u001b[1;32m    152\u001b[0m         \u001b[0mself\u001b[0m\u001b[0;34m.\u001b[0m\u001b[0m_addComplex\u001b[0m\u001b[0;34m(\u001b[0m\u001b[0mmodel\u001b[0m\u001b[0;34m,\u001b[0m \u001b[0menzmldoc\u001b[0m\u001b[0;34m.\u001b[0m\u001b[0mcomplex_dict\u001b[0m\u001b[0;34m)\u001b[0m\u001b[0;34m\u001b[0m\u001b[0;34m\u001b[0m\u001b[0m\n\u001b[1;32m    153\u001b[0m         \u001b[0mself\u001b[0m\u001b[0;34m.\u001b[0m\u001b[0m_addReactants\u001b[0m\u001b[0;34m(\u001b[0m\u001b[0mmodel\u001b[0m\u001b[0;34m,\u001b[0m \u001b[0menzmldoc\u001b[0m\u001b[0;34m.\u001b[0m\u001b[0mreactant_dict\u001b[0m\u001b[0;34m)\u001b[0m\u001b[0;34m\u001b[0m\u001b[0;34m\u001b[0m\u001b[0m\n\u001b[1;32m    154\u001b[0m         \u001b[0mself\u001b[0m\u001b[0;34m.\u001b[0m\u001b[0m_addGlobalParameters\u001b[0m\u001b[0;34m(\u001b[0m\u001b[0mmodel\u001b[0m\u001b[0;34m,\u001b[0m \u001b[0menzmldoc\u001b[0m\u001b[0;34m.\u001b[0m\u001b[0mglobal_parameters\u001b[0m\u001b[0;34m)\u001b[0m\u001b[0;34m\u001b[0m\u001b[0;34m\u001b[0m\u001b[0m\n\u001b[1;32m    155\u001b[0m         \u001b[0mself\u001b[0m\u001b[0;34m.\u001b[0m\u001b[0m_addReactions\u001b[0m\u001b[0;34m(\u001b[0m\u001b[0mmodel\u001b[0m\u001b[0;34m,\u001b[0m \u001b[0menzmldoc\u001b[0m\u001b[0;34m.\u001b[0m\u001b[0mreaction_dict\u001b[0m\u001b[0;34m)\u001b[0m\u001b[0;34m\u001b[0m\u001b[0;34m\u001b[0m\u001b[0m\n\u001b[0;32m--> 156\u001b[0;31m         \u001b[0mself\u001b[0m\u001b[0;34m.\u001b[0m\u001b[0m_addUnits\u001b[0m\u001b[0;34m(\u001b[0m\u001b[0mmodel\u001b[0m\u001b[0;34m,\u001b[0m \u001b[0menzmldoc\u001b[0m\u001b[0;34m.\u001b[0m\u001b[0m_unit_dict\u001b[0m\u001b[0;34m)\u001b[0m\u001b[0;34m\u001b[0m\u001b[0;34m\u001b[0m\u001b[0m\n\u001b[0m",
      "\u001b[0;32m~/.cache/pypoetry/virtualenvs/labnexus-server-NBUs6KrA-py3.11/lib/python3.11/site-packages/pyenzymedepfix/enzymeml/tools/enzymemlwriter.py\u001b[0m in \u001b[0;36m?\u001b[0;34m(self, model, unit_dict)\u001b[0m\n\u001b[1;32m    368\u001b[0m             \u001b[0munit\u001b[0m \u001b[0;34m=\u001b[0m \u001b[0mmodel\u001b[0m\u001b[0;34m.\u001b[0m\u001b[0mcreateUnitDefinition\u001b[0m\u001b[0;34m(\u001b[0m\u001b[0;34m)\u001b[0m\u001b[0;34m\u001b[0m\u001b[0;34m\u001b[0m\u001b[0m\n\u001b[1;32m    369\u001b[0m             \u001b[0munit\u001b[0m\u001b[0;34m.\u001b[0m\u001b[0msetId\u001b[0m\u001b[0;34m(\u001b[0m\u001b[0munit_id\u001b[0m\u001b[0;34m)\u001b[0m\u001b[0;34m\u001b[0m\u001b[0;34m\u001b[0m\u001b[0m\n\u001b[1;32m    370\u001b[0m             \u001b[0mprint\u001b[0m\u001b[0;34m(\u001b[0m\u001b[0;34m'test'\u001b[0m\u001b[0;34m)\u001b[0m\u001b[0;34m\u001b[0m\u001b[0;34m\u001b[0m\u001b[0m\n\u001b[1;32m    371\u001b[0m             \u001b[0mprint\u001b[0m\u001b[0;34m(\u001b[0m\u001b[0munit_def\u001b[0m\u001b[0;34m.\u001b[0m\u001b[0mmeta_id\u001b[0m\u001b[0;34m)\u001b[0m\u001b[0;34m\u001b[0m\u001b[0;34m\u001b[0m\u001b[0m\n\u001b[0;32m--> 372\u001b[0;31m             \u001b[0munit\u001b[0m\u001b[0;34m.\u001b[0m\u001b[0msetMetaId\u001b[0m\u001b[0;34m(\u001b[0m\u001b[0munit_def\u001b[0m\u001b[0;34m.\u001b[0m\u001b[0mmeta_id\u001b[0m\u001b[0;34m)\u001b[0m\u001b[0;34m\u001b[0m\u001b[0;34m\u001b[0m\u001b[0m\n\u001b[0m\u001b[1;32m    373\u001b[0m             \u001b[0munit\u001b[0m\u001b[0;34m.\u001b[0m\u001b[0msetName\u001b[0m\u001b[0;34m(\u001b[0m\u001b[0munit_def\u001b[0m\u001b[0;34m.\u001b[0m\u001b[0mname\u001b[0m\u001b[0;34m)\u001b[0m\u001b[0;34m\u001b[0m\u001b[0;34m\u001b[0m\u001b[0m\n\u001b[1;32m    374\u001b[0m \u001b[0;34m\u001b[0m\u001b[0m\n\u001b[1;32m    375\u001b[0m             \u001b[0;31m# TODO Add ontology\u001b[0m\u001b[0;34m\u001b[0m\u001b[0;34m\u001b[0m\u001b[0m\n",
      "\u001b[0;32m~/.cache/pypoetry/virtualenvs/labnexus-server-NBUs6KrA-py3.11/lib/python3.11/site-packages/libsbml/__init__.py\u001b[0m in \u001b[0;36m?\u001b[0;34m(self, metaid)\u001b[0m\n\u001b[1;32m   4247\u001b[0m \u001b[0;34m\u001b[0m\u001b[0m\n\u001b[1;32m   4248\u001b[0m         \u001b[0mSee\u001b[0m \u001b[0malso\u001b[0m \u001b[0mgetMetaId\u001b[0m\u001b[0;34m(\u001b[0m\u001b[0;34m)\u001b[0m\u001b[0;34m,\u001b[0m \u001b[0misSetMetaId\u001b[0m\u001b[0;34m(\u001b[0m\u001b[0;34m)\u001b[0m\u001b[0;34m.\u001b[0m\u001b[0;34m\u001b[0m\u001b[0;34m\u001b[0m\u001b[0m\n\u001b[1;32m   4249\u001b[0m \u001b[0;34m\u001b[0m\u001b[0m\n\u001b[1;32m   4250\u001b[0m         \"\"\"\n\u001b[0;32m-> 4251\u001b[0;31m         \u001b[0;32mreturn\u001b[0m \u001b[0m_libsbml\u001b[0m\u001b[0;34m.\u001b[0m\u001b[0mSBase_setMetaId\u001b[0m\u001b[0;34m(\u001b[0m\u001b[0mself\u001b[0m\u001b[0;34m,\u001b[0m \u001b[0mmetaid\u001b[0m\u001b[0;34m)\u001b[0m\u001b[0;34m\u001b[0m\u001b[0;34m\u001b[0m\u001b[0m\n\u001b[0m",
      "\u001b[0;31mValueError\u001b[0m: invalid null reference in method 'SBase_setMetaId', argument 2 of type 'std::string const &'"
     ]
    }
   ],
   "source": [
    "# To an OMEX archive\n",
    "enzmldoc.toFile(\".\", name=\"My_Experiment\")\n"
   ]
  },
  {
   "cell_type": "code",
   "execution_count": null,
   "id": "ee2391e6",
   "metadata": {},
   "outputs": [],
   "source": [
    "\n",
    "# To a JSON string\n",
    "with open(\"My_Experiment.json\", \"w\") as file_handle:\n",
    "    file_handle.write(enzmldoc.json(indent=2))\n",
    "    \n",
    "# To an XML string\n",
    "xml_string = enzmldoc.toXMLString()"
   ]
  },
  {
   "cell_type": "markdown",
   "id": "5decfe8a-bb2d-460d-86c9-9e700162afb9",
   "metadata": {},
   "source": [
    "### Upload\n",
    "\n",
    "- ```uploadToDataverse``` uploads the document to a Dataverse installation.\n",
    "- Please note, that in order to work, your environment should contain these variables\n",
    "    - ```DATAVERSE_URL```: The URL to your installation.\n",
    "    - ```DATAVERSE_API_TOKEN```: The API Token to access the dataverse."
   ]
  },
  {
   "cell_type": "code",
   "execution_count": null,
   "id": "cb6ae2f2-32bb-4ffd-b255-bf171725e645",
   "metadata": {},
   "outputs": [],
   "source": [
    "# Uncomment if you want to use this on your own Dataverse\n",
    "# enzmldoc.uploadToDataverse(dataverse_name=\"playground\")"
   ]
  },
  {
   "cell_type": "markdown",
   "id": "99daaf82-a235-4238-89ce-d077e6ea39df",
   "metadata": {},
   "source": [
    "-------"
   ]
  },
  {
   "cell_type": "markdown",
   "id": "e99a7220-d586-44bc-8507-cef3ee1de231",
   "metadata": {},
   "source": [
    "## Loading an EnzymeML document\n",
    "\n",
    "It is not expected to create an EnzymeML document in a single session, but to let it evolve over the course of an experiment. Thus it is necessary to load and edit an EnzymeML document, without re-creating everything from start. PyEnzyme's ```EnzymeMLDocument``` object offers an initialization method ```fromFile``` to edit an already existing document. In addition, it is also possible to use the aforementioned JSON \n",
    "\n",
    "**Tips and hints:**\n",
    "\n",
    "- PyEnzyme stores a history in the document, which keeps track of what has been changed and added in the course of an experiment. This is done, to spot potential errors and facilitate teh documentation of an experiment's lifeline."
   ]
  },
  {
   "cell_type": "code",
   "execution_count": null,
   "id": "1077c6d7-683e-4c2e-993c-e7f6f5c5ffd6",
   "metadata": {},
   "outputs": [
    {
     "name": "stdout",
     "output_type": "stream",
     "text": [
      "Experiment\n",
      ">>> Reactants\n",
      "\tID: s0 \t Name: Substrate\n",
      "\tID: s1 \t Name: Product\n",
      ">>> Proteins\n",
      "\tID: p0 \t Name: Enzyme\n",
      ">>> Complexes\n",
      "\tID: c0 \t Name: ES\n",
      "\tID: c1 \t Name: EP\n",
      ">>> Reactions\n",
      "\tID: r0 \t Name: reaction-1\n",
      "\tID: r1 \t Name: reaction-2\n",
      "\tID: r2 \t Name: reaction-3\n",
      ">>> Measurements\n",
      ">>> Measurement m0: Run 1\n",
      "    s0 | initial conc: 10.0 mmole / l \t| #replicates: 1\n",
      "    s1 | initial conc: 0.0 mmole / l \t| #replicates: 1\n",
      "    p0 | initial conc: 20.0 fmole / l \t| #replicates: 0\n",
      ">>> Measurement m1: Run 2\n",
      "    s0 | initial conc: 100.0 mmole / l \t| #replicates: 1\n",
      "    s1 | initial conc: 0.0 mmole / l \t| #replicates: 1\n",
      "    p0 | initial conc: 40.0 fmole / l \t| #replicates: 0\n"
     ]
    }
   ],
   "source": [
    "# Load an EnzymeML document from OMEX\n",
    "enzmldoc = pe.EnzymeMLDocument.fromFile(\"./My_Experiment.omex\")\n",
    "\n",
    "# Load an EnzymeML document from JSON \n",
    "json_string = open(\"My_Experiment.json\").read()\n",
    "enzmldoc = enzmldoc.fromJSON(json_string)\n",
    "\n",
    "enzmldoc.printDocument(measurements=True)"
   ]
  },
  {
   "cell_type": "markdown",
   "id": "8d2970a9-37a3-4125-85ef-23df5d302bda",
   "metadata": {},
   "source": [
    "#### Special case: From the EnzymeML spreadsheet template\n",
    "\n",
    "Apart from programmatic creation of an EnzymeML document, PyEnzyme offers a way to convert the 'EnzymeML spreadhseet template' to an OMEX file. Since spreadsheets are the bread and butter of current lab documentation, the template widely covers teh data model and thus provides an easy access to EnzymeML's capabilities."
   ]
  },
  {
   "cell_type": "code",
   "execution_count": null,
   "id": "98715329-b341-4bfd-b749-1e2647f7fdd0",
   "metadata": {},
   "outputs": [
    {
     "name": "stdout",
     "output_type": "stream",
     "text": [
      "Pyruvate Decarboxylation\n",
      ">>> Reactants\n",
      "\tID: s0 \t Name: Pyruvate\n",
      "\tID: s1 \t Name: Acetaldehyde\n",
      "\tID: s2 \t Name: CO2\n",
      ">>> Proteins\n",
      "\tID: p0 \t Name: Pyruvate decarboxylase isozyme 1\n",
      ">>> Complexes\n",
      ">>> Reactions\n",
      "\tID: r0 \t Name: Pyruvate decarboxylation\n"
     ]
    },
    {
     "name": "stderr",
     "output_type": "stream",
     "text": [
      "/home/cdb/.pyenv/versions/3.9.18/lib/python3.9/site-packages/openpyxl/worksheet/_reader.py:329: UserWarning: Data Validation extension is not supported and will be removed\n",
      "  warn(msg)\n",
      "/home/cdb/.pyenv/versions/3.9.18/lib/python3.9/site-packages/openpyxl/worksheet/_reader.py:329: UserWarning: Data Validation extension is not supported and will be removed\n",
      "  warn(msg)\n",
      "/home/cdb/.pyenv/versions/3.9.18/lib/python3.9/site-packages/openpyxl/worksheet/_reader.py:329: UserWarning: Data Validation extension is not supported and will be removed\n",
      "  warn(msg)\n",
      "/home/cdb/.pyenv/versions/3.9.18/lib/python3.9/site-packages/openpyxl/worksheet/_reader.py:329: UserWarning: Data Validation extension is not supported and will be removed\n",
      "  warn(msg)\n",
      "/home/cdb/.pyenv/versions/3.9.18/lib/python3.9/site-packages/openpyxl/worksheet/_reader.py:329: UserWarning: Data Validation extension is not supported and will be removed\n",
      "  warn(msg)\n",
      "/home/cdb/.pyenv/versions/3.9.18/lib/python3.9/site-packages/openpyxl/worksheet/_reader.py:329: UserWarning: Data Validation extension is not supported and will be removed\n",
      "  warn(msg)\n",
      "/home/cdb/.pyenv/versions/3.9.18/lib/python3.9/site-packages/openpyxl/worksheet/_reader.py:329: UserWarning: Data Validation extension is not supported and will be removed\n",
      "  warn(msg)\n"
     ]
    }
   ],
   "source": [
    "# Similar to the OMEX and JSON loaders, its a simple call\n",
    "enzmldoc = pe.EnzymeMLDocument.fromTemplate(\"EnzymeML_Template_Example.xlsm\")\n",
    "enzmldoc.printDocument()"
   ]
  },
  {
   "cell_type": "markdown",
   "id": "81201665-aebe-4db2-bbe1-de9f78edc8a2",
   "metadata": {},
   "source": [
    "--------"
   ]
  },
  {
   "cell_type": "markdown",
   "id": "65b3a935-9b0d-4266-9aab-001f96241fe6",
   "metadata": {},
   "source": [
    "## Editing EnzymeML: Kinetic Modeling\n",
    "\n",
    "Building on top of the previous section about loading an EnzymeML document, this example will demonstrate how to interact with an already created EnzymeML document using the OMEX loader. Since the purpose of an experiment is to generate data from a theory, modeling takes care of the interpretation of an experiment outcome. However, PyEnzyme and EnzymeML are no modeling platforms, but provides a convinient way to interface to such. Hence, this example will demonstrate how such an interfacing could look like.\n",
    "\n",
    "The enzyme-catalyzed reaction that has been reported in the course of this example obviously follows a simple Michaelis-Menten-Kinetic and thus will be reported as such. But first of all, the next part will demonstrate how measurement data can be exported to be used by a modeling framework/platform.\n",
    "\n",
    "First, load the EnzymeML document:"
   ]
  },
  {
   "cell_type": "code",
   "execution_count": null,
   "id": "5e072f24-fb24-4b10-b5a5-fbb2d96bdba7",
   "metadata": {},
   "outputs": [],
   "source": [
    "# Load the EnzymeML document\n",
    "enzmldoc = pe.EnzymeMLDocument.fromFile(\"My_Experiment.omex\")"
   ]
  },
  {
   "cell_type": "markdown",
   "id": "34e176e2-4eea-4382-89f0-3fb71a3c1757",
   "metadata": {},
   "source": [
    "In order to get the measurement data given in the document, the ```EnzymeMLDocument``` object offers the ```exportMeasurementData```-method which will export the data of 'all' or specified measurements to a Pandas DataFrame object."
   ]
  },
  {
   "cell_type": "code",
   "execution_count": null,
   "id": "4bd1484a-cc6e-457d-9a11-519ff5e87a51",
   "metadata": {},
   "outputs": [
    {
     "ename": "KeyError",
     "evalue": "'data'",
     "output_type": "error",
     "traceback": [
      "\u001b[0;31m---------------------------------------------------------------------------\u001b[0m",
      "\u001b[0;31mKeyError\u001b[0m                                  Traceback (most recent call last)",
      "\u001b[1;32m/home/cdb/Workspaces/pyenzymedepfix/examples/Basic example/CreateEnzymeML.ipynb Cell 54\u001b[0m line \u001b[0;36m5\n\u001b[1;32m      <a href='vscode-notebook-cell:/home/cdb/Workspaces/pyenzymedepfix/examples/Basic%20example/CreateEnzymeML.ipynb#Y104sZmlsZQ%3D%3D?line=1'>2</a>\u001b[0m meas_data \u001b[39m=\u001b[39m enzmldoc\u001b[39m.\u001b[39mexportMeasurementData(measurement_ids\u001b[39m=\u001b[39m\u001b[39m\"\u001b[39m\u001b[39mm0\u001b[39m\u001b[39m\"\u001b[39m)\n\u001b[1;32m      <a href='vscode-notebook-cell:/home/cdb/Workspaces/pyenzymedepfix/examples/Basic%20example/CreateEnzymeML.ipynb#Y104sZmlsZQ%3D%3D?line=3'>4</a>\u001b[0m \u001b[39m# Which is a dict containing \"data\" and \"initConc\" information, where data is the part we want\u001b[39;00m\n\u001b[0;32m----> <a href='vscode-notebook-cell:/home/cdb/Workspaces/pyenzymedepfix/examples/Basic%20example/CreateEnzymeML.ipynb#Y104sZmlsZQ%3D%3D?line=4'>5</a>\u001b[0m meas_data \u001b[39m=\u001b[39m meas_data[\u001b[39m\"\u001b[39;49m\u001b[39mdata\u001b[39;49m\u001b[39m\"\u001b[39;49m]\n\u001b[1;32m      <a href='vscode-notebook-cell:/home/cdb/Workspaces/pyenzymedepfix/examples/Basic%20example/CreateEnzymeML.ipynb#Y104sZmlsZQ%3D%3D?line=5'>6</a>\u001b[0m meas_data\n",
      "\u001b[0;31mKeyError\u001b[0m: 'data'"
     ]
    }
   ],
   "source": [
    "# Get the data from measurement \"m0\" ...\n",
    "meas_data = enzmldoc.exportMeasurementData(measurement_ids=\"m0\")\n",
    "\n",
    "# Which is a dict containing \"data\" and \"initConc\" information, where data is the part we want\n",
    "meas_data = meas_data[\"data\"]\n",
    "meas_data"
   ]
  },
  {
   "cell_type": "markdown",
   "id": "92f177f5-505a-4a84-8444-9a2c669bf44e",
   "metadata": {},
   "source": [
    "The given output could now be used for an optimizer in conjunction with the metadata that is given in the EnzymeML document. In order to gather stoichiometries and such, one can access other data in the document by specifically exporting the desired reactions:"
   ]
  },
  {
   "cell_type": "code",
   "execution_count": null,
   "id": "77d96541-20ff-4b44-acba-35a1b31a0750",
   "metadata": {},
   "outputs": [],
   "source": [
    "for reaction in enzmldoc.reaction_dict.values():\n",
    "    # Every entity of an EnzymeML document is stored in its corresponding\n",
    "    # dictionary. This example serves as a get-go solution to access all\n",
    "    # other objects\n",
    "    \n",
    "    educts = reaction.educts\n",
    "    products = reaction.products\n",
    "    \n",
    "    # From this point on, a modeling framework/platform could derive important metadata"
   ]
  },
  {
   "cell_type": "markdown",
   "id": "146d4c3b-8ac3-4e5a-928c-ec03782efabc",
   "metadata": {},
   "source": [
    "Assuming the modeling has now been done, the estimated parameters for the desired reactions can now be added to each reaction. Since this is an example for demonstration, this will only be carried out for the first reaction by using a Michaelis-Menten-Model."
   ]
  },
  {
   "cell_type": "code",
   "execution_count": null,
   "id": "634e60e5-983b-491e-9de0-7e46a39af2b9",
   "metadata": {},
   "outputs": [],
   "source": [
    "from pyenzyme.enzymeml.models import MichaelisMentenKCat\n",
    "\n",
    "# Get the appropriate IDs by using the getter-methods\n",
    "substrate = enzmldoc.getReactant(\"Substrate\")\n",
    "enzyme = enzmldoc.getProtein(\"Enzyme\")\n",
    "\n",
    "# Create the model\n",
    "model = MichaelisMentenKCat(\n",
    "    substrate=substrate.id,\n",
    "    protein=enzyme.id,\n",
    "    k_cat={\"value\": 10.0, \"unit\": \"1 / s\"},\n",
    "    k_m={\"value\": 20.0, \"unit\": \"mmole / l\"},\n",
    "    enzmldoc=enzmldoc\n",
    ")\n",
    "\n",
    "# Add it to 'Reaction 1'\n",
    "reaction = enzmldoc.getReaction(\"reaction-1\")\n",
    "reaction.model = model"
   ]
  },
  {
   "cell_type": "markdown",
   "id": "221cdf6e-6289-43be-852f-0569e549da67",
   "metadata": {},
   "source": [
    "Finally, write the EnzymeML document to an OMEX file or upload it to a database, such as described in the corresponding section. Please note, that this is a minimal example to demonstrate the capabilities of PyEnzyme. However, if you like to inspect an actual interface implementation to modeling platforms, please inspect the Thin Layer implementations for **COPASI** and **PySCeS** in the [GitHub](https://github.com/EnzymeML/PyEnzyme) repository and examples in the [\"EnzymeML at Work\"](https://github.com/EnzymeML/Lauterbach_2022/tree/main/Scenario5) repository."
   ]
  },
  {
   "cell_type": "markdown",
   "id": "52ed8838-072c-4748-91ba-0eed41cb8232",
   "metadata": {},
   "source": [
    "--------"
   ]
  }
 ],
 "metadata": {
  "interpreter": {
   "hash": "a665b5d41d17b532ea9890333293a1b812fa0b73c9c25c950b3cedf1bebd0438"
  },
  "kernelspec": {
   "display_name": "enzymeml",
   "language": "python",
   "name": "python3"
  },
  "language_info": {
   "codemirror_mode": {
    "name": "ipython",
    "version": 3
   },
   "file_extension": ".py",
   "mimetype": "text/x-python",
   "name": "python",
   "nbconvert_exporter": "python",
   "pygments_lexer": "ipython3",
   "version": "3.11.5"
  }
 },
 "nbformat": 4,
 "nbformat_minor": 5
}
