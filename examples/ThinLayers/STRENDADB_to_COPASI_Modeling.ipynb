{
 "cells": [
  {
   "cell_type": "code",
   "execution_count": 1,
   "id": "36d9b89c-e7e1-4370-b5d3-6416a8e88589",
   "metadata": {},
   "outputs": [],
   "source": [
    "from pyenzyme import EnzymeMLDocument, Reactant, Replicate"
   ]
  },
  {
   "cell_type": "markdown",
   "id": "91368d39-3a9c-4209-87e6-ac987d88824a",
   "metadata": {},
   "source": [
    "# EnzymeML application: From STRENDA-DB to COPASI modeling\n",
    "\n",
    "This notebook demonstrates an examplatory usage of the PyEnzyme Thin Layers that were reported in [Range et al. 2021](https://doi.org/10.1111/febs.16318) including the conversion of a STRENDA-DB entry to EnzymeML and time-course simulation followed by a parameter estimation using COPASI. In addition, this notebook covers editing of an EnzymeML document, since the STRENDA-DB entry lacks several some information and to demonstrate how an existing EnzymeML document can be enriched with meta- and time-course data."
   ]
  },
  {
   "cell_type": "markdown",
   "id": "e85ba85c-f051-46de-8e44-50c2e0da2d25",
   "metadata": {},
   "source": [
    "## 1. Creating EnzymeML documents from STRENDA DB entries\n",
    "\n",
    "STRENDA DB is a database on enzyme-catalyzed reactions, which covers the most important information on reaction conditions and kinetic parameters. The API was used to create an EnzymeML document from a STRENDA DB entry via a STRENDA DB-specific thin API layer (TL_STRENDA) to the object layer using the PyEnzyme library. The Thin Layer \"TL_Strenda\" is hosted as a module of PyEnzyme and can be used as a method to process any given STRENDA-DB XML format. For this, an example dataset was previously downloaded from STRENDA-DB's [query page](https://www.beilstein-strenda-db.org/strenda/public/query.xhtml) and added to this directory. In order to execute the conversion, the ```path``` to the XML file as well as ```out_dir``` for the target directory the Thin Layer will write to are specified in a call to ```ThinLayerStrendaML.toEnzymeML```."
   ]
  },
  {
   "cell_type": "code",
   "execution_count": 2,
   "id": "23c8105d-13e1-4c93-b829-18c586af4cd6",
   "metadata": {},
   "outputs": [
    {
     "name": "stdout",
     "output_type": "stream",
     "text": [
      "Matplotlib backend set to: \"nbAgg\"\n",
      "Matplotlib interface loaded (pysces.plt.m)\n",
      "Pitcon routines available\n",
      "NLEQ2 routines available\n",
      "SBML support available\n",
      "You are using NumPy (1.21.2) with SciPy (1.7.0)\n",
      "RateChar is available\n",
      "\n",
      "No module named 'ipyparallel'\n",
      "INFO: Parallel scanner not available\n",
      "\n",
      "PySCeS environment\n",
      "******************\n",
      "pysces.model_dir = /Users/janrange/Pysces/psc\n",
      "pysces.output_dir = /Users/janrange/Pysces\n",
      "\n",
      "\n",
      "***********************************************************************\n",
      "* Welcome to PySCeS (1.0.0) - Python Simulator for Cellular Systems   *\n",
      "*                http://pysces.sourceforge.net                        *\n",
      "* Copyright(C) B.G. Olivier, J.M. Rohwer, J.-H.S. Hofmeyr, 2004-2022  *\n",
      "* Triple-J Group for Molecular Cell Physiology                        *\n",
      "* Stellenbosch University, ZA and VU University Amsterdam, NL         *\n",
      "* PySCeS is distributed under the PySCeS (BSD style) licence, see     *\n",
      "* LICENCE.txt (supplied with this release) for details                *\n",
      "* Please cite PySCeS with: doi:10.1093/bioinformatics/bti046          *\n",
      "***********************************************************************\n"
     ]
    }
   ],
   "source": [
    "from pyenzyme.thinlayers import ThinLayerStrendaML"
   ]
  },
  {
   "cell_type": "code",
   "execution_count": 3,
   "id": "fc3566b6-c960-4798-bb12-649429bbf648",
   "metadata": {},
   "outputs": [
    {
     "name": "stdout",
     "output_type": "stream",
     "text": [
      "\n",
      "Archive was written to STRENDA/generated/3IZNOK_TEST.omex\n",
      "\n"
     ]
    }
   ],
   "source": [
    "# Convert the STRENDA-DB XML to EnzymeML\n",
    "ThinLayerStrendaML.toEnzymeML(\n",
    "    path=\"./STRENDA/3IZNOK_TEST.xml\",\n",
    "    out_dir=\"./STRENDA/generated/\"\n",
    ")"
   ]
  },
  {
   "cell_type": "markdown",
   "id": "6b64f926-91ee-4905-8d16-7660a22b6c44",
   "metadata": {},
   "source": [
    "## 2. Editing of EnzymeML: simulation of time course data from kinetic parameters\n",
    "\n",
    "STRENDA-DB entries provide for an enzyme-catalyzed reaction the kinetic parameters KM and kcat assuming a Michaelis–Menten model and the concentration range of the substrate. However, they are lacking information on the product and on the time course of substrate or product concentrations. These will be added to the appropriate fields found in the document and time-course data will be simulated using the measurement setups that were previously extracted from the STRENDA-DB entry."
   ]
  },
  {
   "cell_type": "code",
   "execution_count": 4,
   "id": "9aeb380d-714b-43c0-a1c6-cf98d4c4897c",
   "metadata": {},
   "outputs": [
    {
     "name": "stdout",
     "output_type": "stream",
     "text": [
      "3IZNOK_TEST\n",
      ">>> Reactants\n",
      "\tID: s0 \t Name: 1H-indole\n",
      "\tID: s1 \t Name: (2S)-2-amino-3-phosphonooxypropanoic acid\n",
      ">>> Proteins\n",
      "\tID: p0 \t Name: TrpB2o from Arabidopsis thaliana\n",
      ">>> Complexes\n",
      ">>> Reactions\n",
      "\tID: r0 \t Name: indole fixed, o-phospho-L-serine varied\n"
     ]
    }
   ],
   "source": [
    "# Load the EnzymeML document\n",
    "enzmldoc = EnzymeMLDocument.fromFile(\"./STRENDA/generated/3IZNOK_TEST.omex\")\n",
    "enzmldoc.printDocument()"
   ]
  },
  {
   "cell_type": "markdown",
   "id": "de2d1d0c-1116-46bf-9594-15caa67834f7",
   "metadata": {},
   "source": [
    "#### Adding missing entities and reaction modification"
   ]
  },
  {
   "cell_type": "code",
   "execution_count": 5,
   "id": "6ffc1c4a-4cd5-4b75-b411-50300a692d25",
   "metadata": {},
   "outputs": [],
   "source": [
    "# Add the missing protein sequence\n",
    "protein = enzmldoc.getProtein(\"p0\")\n",
    "protein.sequence = \"\"\"\n",
    "    MAMRIRIDLPQDEIPAQWYNILPDLPEELPPPQDPTGKSLELLKEVLPSKVLELE\n",
    "    FAKERYVKIPDEVLERYLQVGRPTPIIRAKRLEEYLGNNIKIYLKMESYTYTGS\n",
    "    HKINSALAHVYYAKLDNAKFVTTETGAGQWGSSVALASALFRMKAHIFMVRTSY\n",
    "    YAKPYRKYMMQMYGAEVHPSPSDLTEFGRQLLAKDSNHPGSLGIAISDAVEYAH\n",
    "    KNGGKYVVGSVVNSDIMFKTIAGMEAKKQMELIGEDPDYIIGVVGGGSNYAALA\n",
    "    YPFLGDELRSGKVRRKYIASGSSEVPKMTKGVYKYDYPDTAKLLPMLKMYTIGS\n",
    "    DFVPPPVYAGGLRYHGVAPTLSLLISKGIVQARDYSQEESFKWAKLFSELEGYI\n",
    "    PAPETSHALPILAEIAEEAKKSGERKTVLVSFSGHGLLDLGNYASVLFKEKLAA\n",
    "    ALEHHHHHH\"\"\".strip()"
   ]
  },
  {
   "cell_type": "code",
   "execution_count": 6,
   "id": "c1cc2200-b287-41cd-83b4-6c55f74bb8d7",
   "metadata": {},
   "outputs": [
    {
     "name": "stdout",
     "output_type": "stream",
     "text": [
      "indole fixed, o-phospho-L-serine varied:\n",
      "1.0 1H-indole + 1.0 (2S)-2-amino-3-phosphonooxypropanoic acid -> 1.0 L-tryptophan + 1.0 hydrogenphosphate\n",
      "\n"
     ]
    }
   ],
   "source": [
    "# Add the missing products using the Chebi ID to the document\n",
    "product = Reactant.fromChebiID(\"CHEBI:16828\", vessel_id=\"v0\")\n",
    "coproduct = Reactant.fromChebiID(\"CHEBI:43474\", vessel_id=\"v0\")\n",
    "\n",
    "product_id = enzmldoc.addReactant(product)\n",
    "coproduct_id = enzmldoc.addReactant(coproduct)\n",
    "\n",
    "# Finally, add it as product to the reaction\n",
    "reaction = enzmldoc.getReaction(\"r0\")\n",
    "\n",
    "reaction.addProduct(species_id=product_id, stoichiometry=1.0, enzmldoc=enzmldoc)\n",
    "reaction.addProduct(species_id=coproduct_id, stoichiometry=1.0, enzmldoc=enzmldoc)\n",
    "\n",
    "# Inspect the reaction scheme for confirmation\n",
    "enzmldoc.printReactionSchemes()"
   ]
  },
  {
   "cell_type": "markdown",
   "id": "c9c1b409-22d6-40e1-8d39-f0916ce9175b",
   "metadata": {},
   "source": [
    "#### Time-course simulation\n",
    "\n",
    "This section will utilize the given model and measurement setup to simulate possible time-course data, which will later be used to re-estimate the parameters using COPASI. Since this is a rather trivial demonstration, since the parameters have already been estimated, it shows how a potential situation where parameters have not yet been estimated can be executed towards modeling."
   ]
  },
  {
   "cell_type": "code",
   "execution_count": 7,
   "id": "b9f6837f-63d2-4854-ac85-43fb49ec9ad3",
   "metadata": {},
   "outputs": [],
   "source": [
    "# Get the model and for simulation\n",
    "model = enzmldoc.getReaction(\"r0\").model"
   ]
  },
  {
   "cell_type": "code",
   "execution_count": 8,
   "id": "a43176b0-7cc9-4170-8d85-52c7e7acfd9b",
   "metadata": {},
   "outputs": [],
   "source": [
    "def simulate(substrate_init, protein_init, model, time_steps=range(1,201)):\n",
    "    \"\"\"Function used to simulate given measurement\"\"\"\n",
    "    \n",
    "    substrate_conc, time = [substrate_init], [0]\n",
    "    \n",
    "    for time_step in time_steps:\n",
    "        \n",
    "        # Evaluate the velocity\n",
    "        velocity = model.evaluate(\n",
    "                p0=protein_init,\n",
    "                s1=substrate_conc[-1]\n",
    "            )\n",
    "        \n",
    "        time.append(time_step)\n",
    "        substrate_conc.append(\n",
    "            substrate_conc[-1] + (-1)*velocity*substrate_conc[-1]\n",
    "        )\n",
    "        \n",
    "    return time, substrate_conc"
   ]
  },
  {
   "cell_type": "code",
   "execution_count": 9,
   "id": "7f774f31-b86d-4c1b-8b88-7fe649902368",
   "metadata": {},
   "outputs": [
    {
     "name": "stdout",
     "output_type": "stream",
     "text": [
      ">>> Measurement m0: measurement_1\n",
      "    s0 | initial conc: 100.0 uM \t| #replicates: 0\n",
      "    s1 | initial conc: 0.0 mM \t| #replicates: 1\n",
      "    p0 | initial conc: 10.0 uM \t| #replicates: 0\n",
      ">>> Measurement m1: measurement_2\n",
      "    s0 | initial conc: 100.0 uM \t| #replicates: 0\n",
      "    s1 | initial conc: 0.1 mM \t| #replicates: 1\n",
      "    p0 | initial conc: 10.0 uM \t| #replicates: 0\n",
      ">>> Measurement m2: measurement_3\n",
      "    s0 | initial conc: 100.0 uM \t| #replicates: 0\n",
      "    s1 | initial conc: 0.2 mM \t| #replicates: 1\n",
      "    p0 | initial conc: 10.0 uM \t| #replicates: 0\n",
      ">>> Measurement m3: measurement_4\n",
      "    s0 | initial conc: 100.0 uM \t| #replicates: 0\n",
      "    s1 | initial conc: 0.30000000000000004 mM \t| #replicates: 1\n",
      "    p0 | initial conc: 10.0 uM \t| #replicates: 0\n",
      ">>> Measurement m4: measurement_5\n",
      "    s0 | initial conc: 100.0 uM \t| #replicates: 0\n",
      "    s1 | initial conc: 0.4 mM \t| #replicates: 1\n",
      "    p0 | initial conc: 10.0 uM \t| #replicates: 0\n",
      ">>> Measurement m5: measurement_6\n",
      "    s0 | initial conc: 100.0 uM \t| #replicates: 0\n",
      "    s1 | initial conc: 0.5 mM \t| #replicates: 1\n",
      "    p0 | initial conc: 10.0 uM \t| #replicates: 0\n"
     ]
    }
   ],
   "source": [
    "# Iterate through all measurements and append the new replicate data\n",
    "for measurement in enzmldoc.measurement_dict.values():\n",
    "    \n",
    "    # Gather the important concentrations\n",
    "    protein_conc = measurement.getProtein(\"p0\").init_conc\n",
    "    substrate_conc = measurement.getReactant(\"s1\").init_conc\n",
    "    substrate_unit = measurement.getReactant(\"s1\").unit\n",
    "    \n",
    "    time, data = simulate(substrate_conc, protein_conc, model)\n",
    "    \n",
    "    replicate = Replicate(\n",
    "        id=f\"replicate_meas{measurement.id}\",\n",
    "        species_id=\"s1\",\n",
    "        data_unit=substrate_unit,\n",
    "        time_unit=\"sec\",\n",
    "        data=data,\n",
    "        time=time\n",
    "    )\n",
    "    \n",
    "    measurement.addReplicates([replicate], enzmldoc)\n",
    "    \n",
    "    measurement.printMeasurementScheme()"
   ]
  },
  {
   "cell_type": "code",
   "execution_count": 10,
   "id": "87385fb2-08f2-4b86-a339-c15af938c362",
   "metadata": {},
   "outputs": [
    {
     "name": "stdout",
     "output_type": "stream",
     "text": [
      "\n",
      "Archive was written to COPASI/3IZNOK_Simulated.omex\n",
      "\n"
     ]
    }
   ],
   "source": [
    "# Finally, write the new EnzymeML document to a new file\n",
    "enzmldoc.toFile(\"./COPASI\", name=\"3IZNOK_Simulated\")"
   ]
  },
  {
   "cell_type": "markdown",
   "id": "7e4453bb-3a57-456e-9a9c-c771a1e5f41e",
   "metadata": {},
   "source": [
    "## 3. Kinetic modeling of EnzymeML data by COPASI\n",
    "\n",
    "COPASI is a modeling and simulation environment, which supports the OMEX format. Using the PyEnzyme library and a COPASI-specific thin API layer (TL_COPASI), the time course data (measured concentrations of substrate or product) are loaded into COPASI. Within COPASI, different kinetic laws are applied, kinetic parameters are estimated, and plots are generated to assess the result. The selected kinetic model and the estimated kinetic parameters are then added to the EnzymeML document."
   ]
  },
  {
   "cell_type": "markdown",
   "id": "4725cd87-3bdc-4e31-b958-0a37bf888742",
   "metadata": {},
   "source": [
    "... updated version to the new API syntax will follow soon."
   ]
  },
  {
   "cell_type": "code",
   "execution_count": 10,
   "id": "48b18fea-1fdb-460c-803d-395509676417",
   "metadata": {},
   "outputs": [
    {
     "data": {
      "text/plain": [
       "{'m0': {'data':      time/sec  replicate_measm0/s1/mM\n",
       "  0         0.0                     0.0\n",
       "  1         1.0                     0.0\n",
       "  2         2.0                     0.0\n",
       "  3         3.0                     0.0\n",
       "  4         4.0                     0.0\n",
       "  ..        ...                     ...\n",
       "  196     196.0                     0.0\n",
       "  197     197.0                     0.0\n",
       "  198     198.0                     0.0\n",
       "  199     199.0                     0.0\n",
       "  200     200.0                     0.0\n",
       "  \n",
       "  [201 rows x 2 columns],\n",
       "  'initConc': {'s1': (0.0, 'u1')}},\n",
       " 'm1': {'data':      time/sec  replicate_measm1/s1/mM\n",
       "  0         0.0                0.100000\n",
       "  1         1.0                0.086364\n",
       "  2         2.0                0.074753\n",
       "  3         3.0                0.064863\n",
       "  4         4.0                0.056434\n",
       "  ..        ...                     ...\n",
       "  196     196.0                0.000406\n",
       "  197     197.0                0.000403\n",
       "  198     198.0                0.000401\n",
       "  199     199.0                0.000399\n",
       "  200     200.0                0.000396\n",
       "  \n",
       "  [201 rows x 2 columns],\n",
       "  'initConc': {'s1': (0.1, 'u1')}},\n",
       " 'm2': {'data':      time/sec  replicate_measm2/s1/mM\n",
       "  0         0.0                0.200000\n",
       "  1         1.0                0.171429\n",
       "  2         2.0                0.147132\n",
       "  3         3.0                0.126466\n",
       "  4         4.0                0.108887\n",
       "  ..        ...                     ...\n",
       "  196     196.0                0.000417\n",
       "  197     197.0                0.000414\n",
       "  198     198.0                0.000412\n",
       "  199     199.0                0.000409\n",
       "  200     200.0                0.000407\n",
       "  \n",
       "  [201 rows x 2 columns],\n",
       "  'initConc': {'s1': (0.2, 'u1')}},\n",
       " 'm3': {'data':      time/sec  replicate_measm3/s1/mM\n",
       "  0         0.0                0.300000\n",
       "  1         1.0                0.256452\n",
       "  2         2.0                0.219428\n",
       "  3         3.0                0.187948\n",
       "  4         4.0                0.161180\n",
       "  ..        ...                     ...\n",
       "  196     196.0                0.000423\n",
       "  197     197.0                0.000421\n",
       "  198     198.0                0.000418\n",
       "  199     199.0                0.000416\n",
       "  200     200.0                0.000413\n",
       "  \n",
       "  [201 rows x 2 columns],\n",
       "  'initConc': {'s1': (0.30000000000000004, 'u1')}},\n",
       " 'm4': {'data':      time/sec  replicate_measm4/s1/mM\n",
       "  0         0.0                0.400000\n",
       "  1         1.0                0.341463\n",
       "  2         2.0                0.291701\n",
       "  3         3.0                0.249396\n",
       "  4         4.0                0.213429\n",
       "  ..        ...                     ...\n",
       "  196     196.0                0.000428\n",
       "  197     197.0                0.000426\n",
       "  198     198.0                0.000423\n",
       "  199     199.0                0.000420\n",
       "  200     200.0                0.000418\n",
       "  \n",
       "  [201 rows x 2 columns],\n",
       "  'initConc': {'s1': (0.4, 'u1')}},\n",
       " 'm5': {'data':      time/sec  replicate_measm5/s1/mM\n",
       "  0         0.0                0.500000\n",
       "  1         1.0                0.426471\n",
       "  2         2.0                0.363966\n",
       "  3         3.0                0.310831\n",
       "  4         4.0                0.265659\n",
       "  ..        ...                     ...\n",
       "  196     196.0                0.000432\n",
       "  197     197.0                0.000429\n",
       "  198     198.0                0.000427\n",
       "  199     199.0                0.000424\n",
       "  200     200.0                0.000421\n",
       "  \n",
       "  [201 rows x 2 columns],\n",
       "  'initConc': {'s1': (0.5, 'u1')}}}"
      ]
     },
     "execution_count": 10,
     "metadata": {},
     "output_type": "execute_result"
    }
   ],
   "source": [
    "enzmldoc.exportMeasurementData()"
   ]
  },
  {
   "cell_type": "code",
   "execution_count": null,
   "id": "d9723991-474a-4bf3-80b1-498471da3074",
   "metadata": {},
   "outputs": [],
   "source": []
  }
 ],
 "metadata": {
  "kernelspec": {
   "display_name": "enzymeml",
   "language": "python",
   "name": "enzymeml"
  },
  "language_info": {
   "codemirror_mode": {
    "name": "ipython",
    "version": 3
   },
   "file_extension": ".py",
   "mimetype": "text/x-python",
   "name": "python",
   "nbconvert_exporter": "python",
   "pygments_lexer": "ipython3",
   "version": "3.9.7"
  }
 },
 "nbformat": 4,
 "nbformat_minor": 5
}
