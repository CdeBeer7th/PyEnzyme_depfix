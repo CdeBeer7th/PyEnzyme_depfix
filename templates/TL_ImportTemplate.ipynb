{
 "cells": [
  {
   "cell_type": "markdown",
   "metadata": {},
   "source": [
    "# _PyEnzyme_ - Import template\n",
    "\n",
    "#### Usage\n",
    "\n",
    "- This template offers all functionalities to extract information from a given EnzymeML document. \n",
    "- Simply reduce the template to your application-specific variables and map these to your own application."
   ]
  },
  {
   "cell_type": "markdown",
   "metadata": {},
   "source": [
    "------------------------------"
   ]
  },
  {
   "cell_type": "code",
   "execution_count": 1,
   "metadata": {},
   "outputs": [],
   "source": [
    "from pyenzyme.enzymeml.tools import EnzymeMLReader"
   ]
  },
  {
   "cell_type": "markdown",
   "metadata": {},
   "source": [
    "## Read .omex file\n",
    "\n",
    "- The reader converts the .xml document to an _EnzymeMLDocument_ object\n",
    "- Entities such as Proteins, Reactants and reactions are stored within dictionaries\n",
    "\n",
    "\n",
    "    ProteinDict\n",
    "    ReactantDict\n",
    "    ReactionDict\n",
    "    UnitDict\n",
    "    \n",
    "- These can be accessed via the \"enzmldoc\" object by its native methods."
   ]
  },
  {
   "cell_type": "code",
   "execution_count": 2,
   "metadata": {},
   "outputs": [],
   "source": [
    "path = \"Example.omex\"\n",
    "enzmldoc = EnzymeMLReader().readFromFile(path, omex=True)"
   ]
  },
  {
   "cell_type": "markdown",
   "metadata": {},
   "source": [
    "## User information\n",
    "\n",
    "- Information about the creators of a given EnzymeML document is stored within a list of \"Creator\" objects.\n",
    "\n",
    "Attributes:\n",
    "    - Given name\n",
    "    - last name\n",
    "    - E-mail"
   ]
  },
  {
   "cell_type": "code",
   "execution_count": 3,
   "metadata": {},
   "outputs": [],
   "source": [
    "user_info = enzmldoc.getCreator()\n",
    "\n",
    "for user in user_info:\n",
    "    \n",
    "    given_name = user.getGname()\n",
    "    family_name = user.getFname()\n",
    "    mail = user.getMail()\n",
    "    "
   ]
  },
  {
   "cell_type": "markdown",
   "metadata": {},
   "source": [
    "## Unit Definitions\n",
    "\n",
    "- Each unit defined in an _EnzymeMLDocument_ is stored as a _UnitDef_ object in a dictionary, which can be accessed via iteration. \n",
    "- These _UnitDef_ objects carry a list of the units which it is made of including their exponent (e.g. mole/l => mol ^ 1, l ^ -1)  \n",
    "\n",
    "Attributes:\n",
    "    - ID: Internal identifiers\n",
    "    - Name: SI name of the unit\n",
    "    - Meta ID: SBML related identifier\n",
    "    - Ontology: URL to ontology describing the unit\n",
    "    - Baseunits: Single units the UnitDef is made of"
   ]
  },
  {
   "cell_type": "code",
   "execution_count": 4,
   "metadata": {},
   "outputs": [
    {
     "name": "stdout",
     "output_type": "stream",
     "text": [
      ">>> Units\n",
      "    ID: u0 \t Name: ml +1\n",
      "    ID: u1 \t Name: l -1 mmole +1\n",
      "    ID: u2 \t Name: s +1\n",
      "    ID: u3 \t Name: C +1\n"
     ]
    }
   ],
   "source": [
    "enzmldoc.printUnits()"
   ]
  },
  {
   "cell_type": "code",
   "execution_count": 5,
   "metadata": {},
   "outputs": [],
   "source": [
    "for id_, unitdef in enzmldoc.getUnitDict().items():\n",
    "    \n",
    "    unit_id = unitdef.getId()\n",
    "    unit_name = unitdef.getName()\n",
    "    unit_meta_id = unitdef.getMetaid()\n",
    "    unit_ontology = unitdef.getOntology()\n",
    "    baseunits = unitdef.getUnits()\n",
    "    \n",
    "    for unit in baseunits:\n",
    "        \n",
    "        kind = unit[0]\n",
    "        exponent = unit[1]\n",
    "        scale = unit[2]\n",
    "        multiplier = unit[3]"
   ]
  },
  {
   "cell_type": "markdown",
   "metadata": {},
   "source": [
    "## Proteins\n",
    "\n",
    "- Each unit defined in an _EnzymeMLDocument_ is stored as a _Protein_ object in a dictionary\n",
    "- These can be accessed via _getProtein_ or by iteration.\n",
    "\n",
    "Attributes:\n",
    "    - ID: Internal identifier\n",
    "    - Name: Systematic name of protein\n",
    "    - Conc(entration): Value of initial concentration\n",
    "    - Unit: Name of the concentration unit \n",
    "    - Sequence: Protein aminoacid sequence\n",
    "    - Vessel: Name of vessel used in experiment"
   ]
  },
  {
   "cell_type": "code",
   "execution_count": 6,
   "metadata": {},
   "outputs": [
    {
     "name": "stdout",
     "output_type": "stream",
     "text": [
      ">>> Proteins\n",
      "    ID: p0 \t Name: EnzymeMLase\n"
     ]
    }
   ],
   "source": [
    "enzmldoc.printProteins()"
   ]
  },
  {
   "cell_type": "code",
   "execution_count": 7,
   "metadata": {},
   "outputs": [],
   "source": [
    "for id_ in enzmldoc.getProteinDict():\n",
    "    \n",
    "    protein = enzmldoc.getProtein(id_)\n",
    "    \n",
    "    protein_id = id_\n",
    "    protein_name = protein.getName()\n",
    "    protein_conc = protein.getInitConc()\n",
    "    protein_unit = enzmldoc.getUnitDict()[ protein.getSubstanceUnits() ].getName()\n",
    "    protein_sequence = protein.getSequence()\n",
    "    protein_vessel = enzmldoc.getVessel().getName()"
   ]
  },
  {
   "cell_type": "markdown",
   "metadata": {},
   "source": [
    "## Reactants\n",
    "\n",
    "- Each reaction defined in an _EnzymeMLDocument_ is stored as a _Reactant_ object in a dictionary\n",
    "- These can be accessed via _getReactant_ or by iteration.\n",
    "\n",
    "Attributes:\n",
    "    - ID: Internal identifier\n",
    "    - Name: Systematic name of protein\n",
    "    - Conc(entration): Value of initial concentration\n",
    "    - Unit: Name of the concentration unit \n",
    "    - Sequence: Protein aminoacid sequence\n",
    "    - Vessel: Name of vessel used in experiment\n",
    "    - Inchi: Inchi encoded substance structure\n",
    "    - Smiles: Smiles encoded substance structure"
   ]
  },
  {
   "cell_type": "code",
   "execution_count": 8,
   "metadata": {},
   "outputs": [
    {
     "name": "stdout",
     "output_type": "stream",
     "text": [
      ">>> Reactants\n",
      "    ID: s0 \t Name: Reactant1\n"
     ]
    }
   ],
   "source": [
    "enzmldoc.printReactants()"
   ]
  },
  {
   "cell_type": "code",
   "execution_count": 9,
   "metadata": {},
   "outputs": [],
   "source": [
    "for id_ in enzmldoc.getReactantDict():\n",
    "    \n",
    "    reactant = enzmldoc.getReactant(id_)\n",
    "    \n",
    "    reactant_id = id_\n",
    "    reactant_name = reactant.getName()\n",
    "    reactant_conc = reactant.getInitConc()\n",
    "    reactant_unit = enzmldoc.getUnitDict()[ reactant.getSubstanceunits() ].getName()\n",
    "    reactant_vessel = enzmldoc.getVessel().getName()\n",
    "    \n",
    "    # NOT INCLUDED IN DEMO OMEX\n",
    "    #reactant_inchi = reactant.getInchi()\n",
    "    #reactant_smiles = reactant.getSmiles()"
   ]
  },
  {
   "cell_type": "markdown",
   "metadata": {},
   "source": [
    "## Reactions\n",
    "\n",
    "- Each reaction defined in an _EnzymeMLDocument_ is stored as an _EnzymeReaction_ object in a dictionary\n",
    "- These can be accessed via _getReaction_ or by iteration. \n",
    "- Besides reaction conditions, lists of educts/products/modifiers define which substances participate in the reaction:\n",
    "\n",
    "        - Reactant/Protein Identifier\n",
    "        - Stoichiometry\n",
    "        - Whether or not substance concentrations are constant\n",
    "        - Replicate data\n",
    "\n",
    "Attributes:\n",
    "    - ID: Internal identifier\n",
    "    - Name: Reaction name\n",
    "    - Temperature: Value of given temperature\n",
    "    - Temperature Unit: Unit of given temperature\n",
    "    - pH: pH value\n",
    "    - educts/products/modifiers: List of educts tuples (reactant ID, stoichiometry, isConstant, list of replicates)\n",
    "    \n",
    "Replicate object\n",
    "\n",
    "    - Data: Pandas series of time course data\n",
    "    - Unit: Unit of replicate\n",
    "    - ID: Unique replicate ID\n",
    "    - Time unit: Unit of time\n",
    "    - Type: Data type (e.g. \"conc\" for concentration)\n",
    "        "
   ]
  },
  {
   "cell_type": "code",
   "execution_count": 10,
   "metadata": {},
   "outputs": [
    {
     "name": "stdout",
     "output_type": "stream",
     "text": [
      ">>> Reactions\n",
      "    ID: r0 \t Name: Reaction1\n"
     ]
    }
   ],
   "source": [
    "enzmldoc.printReactions()"
   ]
  },
  {
   "cell_type": "code",
   "execution_count": 13,
   "metadata": {},
   "outputs": [],
   "source": [
    "for id_ in enzmldoc.getReactionDict():\n",
    "    \n",
    "    reaction = enzmldoc.getReaction(id_, by_id=True)\n",
    "    \n",
    "    reaction_id = id_\n",
    "    reaction_name = reaction.getName()\n",
    "    reaction_ph = reaction.getPh()\n",
    "    reaction_temp = reaction.getTemperature()\n",
    "    reaction_unit = reaction.getTempunit()\n",
    "    reaction_educts = reaction.getEducts()\n",
    "    reaction_products = reaction.getProducts()\n",
    "    reaction_modifiers = reaction.getModifiers()\n",
    "    \n",
    "    \n",
    "    ############## EDUCTS ##############\n",
    "    \n",
    "    for reactant_id, stoich, _, replicates, init_concs in reaction_educts:\n",
    "        \n",
    "        reactant = enzmldoc.getReactant(reactant_id)  # Return Reactant object\n",
    "        stoichiometry = stoich\n",
    "        raw_data = reaction.exportReplicates( reactant_id ) # exports all time course data of said reactant to Pandas\n",
    "        \n",
    "        # access all individual replicates\n",
    "        for replicate in replicates:\n",
    "            \n",
    "            replicate = replicate\n",
    "            \n",
    "            replicate_data = replicate.getData() # Pandas Series object \n",
    "            replicate_unit = enzmldoc.getUnitDict()[ replicate.getDataUnit() ]\n",
    "            replicate_id = replicate.getReplica()\n",
    "            replicate_timeunit = enzmldoc.getUnitDict()[ replicate.getTimeUnit() ]\n",
    "            replicate_type = replicate.getType()\n",
    "            \n",
    "            \n",
    "    ############## PRODUCTS ##############\n",
    "    \n",
    "    for reactant_id, stoich, _, replicates, init_concs in reaction_products:\n",
    "        \n",
    "        reactant = enzmldoc.getReactant(reactant_id)  # Return Reactant object\n",
    "        stoichiometry = stoich\n",
    "        raw_data = reaction.exportReplicates( reactant_id ) # exports all time course data of said reactant to Pandas\n",
    "        \n",
    "        # access all individual replicates\n",
    "        for replicate in replicates:\n",
    "            \n",
    "            replicate = replicate\n",
    "            \n",
    "            replicate_data = replicate.getData() # Pandas Series object \n",
    "            replicate_unit = enzmldoc.getUnitDict()[ replicate.getDataUnit() ]\n",
    "            replicate_id = replicate.getReplica()\n",
    "            replicate_timeunit = enzmldoc.getUnitDict()[ replicate.getTimeUnit() ]\n",
    "            replicate_type = replicate.getType()\n",
    "       \n",
    "    \n",
    "    ############## MODIFIERS ##############\n",
    "    \n",
    "    for reactant_id, stoich, _, replicates, init_concs in reaction_modifiers:\n",
    "        \n",
    "        if 's' in reactant_id: reactant = enzmldoc.getReactant(reactant_id);  # Return Reactant object\n",
    "        if 'p' in reactant_id: reactant = enzmldoc.getProtein(reactant_id);  # Return Reactant object\n",
    "        stoichiometry = stoich\n",
    "        \n",
    "        # access all individual replicates\n",
    "        for replicate in replicates:\n",
    "            \n",
    "            replicate = replicate\n",
    "            \n",
    "            replicate_data = replicate.getData() # Pandas Series object \n",
    "            replicate_unit = enzmldoc.getUnitDict()[ replicate.getDataUnit() ]\n",
    "            replicate_id = replicate.getReplica()\n",
    "            replicate_timeunit = enzmldoc.getUnitDict()[ replicate.getTimeUnit() ]\n",
    "            replicate_type = replicate.getType()\n",
    "            "
   ]
  },
  {
   "cell_type": "code",
   "execution_count": null,
   "metadata": {},
   "outputs": [],
   "source": []
  }
 ],
 "metadata": {
  "kernelspec": {
   "display_name": "Python 3",
   "language": "python",
   "name": "python3"
  },
  "language_info": {
   "codemirror_mode": {
    "name": "ipython",
    "version": 3
   },
   "file_extension": ".py",
   "mimetype": "text/x-python",
   "name": "python",
   "nbconvert_exporter": "python",
   "pygments_lexer": "ipython3",
   "version": "3.7.3"
  }
 },
 "nbformat": 4,
 "nbformat_minor": 4
}
